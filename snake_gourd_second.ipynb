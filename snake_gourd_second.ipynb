{
  "cells": [
    {
      "cell_type": "markdown",
      "metadata": {
        "id": "view-in-github",
        "colab_type": "text"
      },
      "source": [
        "<a href=\"https://colab.research.google.com/github/tanvir-talha058/Machine-Learning/blob/main/snake_gourd_second.ipynb\" target=\"_parent\"><img src=\"https://colab.research.google.com/assets/colab-badge.svg\" alt=\"Open In Colab\"/></a>"
      ]
    },
    {
      "cell_type": "markdown",
      "metadata": {
        "id": "yDRbA16YTOOX"
      },
      "source": [
        "Step 1: Organize the Dataset\n",
        "Ensure your dataset is structured in directories corresponding to each category:\n",
        "\n",
        "train folder: Contains images for training the model.\n",
        "val folder: Contains images for validation during training to monitor performance.\n",
        "test folder: Contains images for evaluating the final model after training.\n",
        "\n",
        "Step 2: Load and Preprocess Data\n",
        "Use TensorFlow's image_dataset_from_directory method to load images from your dataset directories. The images will be automatically resized and converted to batches suitable for model training.\n",
        "\n",
        "Code for Loading and Preprocessing Dataset"
      ]
    },
    {
      "source": [
        "import tensorflow as tf\n",
        "import os\n",
        "\n",
        "# Mount Google Drive\n",
        "from google.colab import drive\n",
        "drive.mount('/content/drive')\n",
        "\n",
        "# Define image size and batch size\n",
        "IMG_SIZE = (224, 224)  # Resize all images to 224x224\n",
        "BATCH_SIZE = 32\n",
        "\n",
        "# Path to your dataset on Google Drive\n",
        "# Replace with the actual path to your dataset folder\n",
        "DATA_DIR = '/content/drive/My Drive/dataset'\n",
        "\n",
        "# Construct the absolute paths to the data directories\n",
        "train_dir = os.path.join(DATA_DIR, 'train')\n",
        "val_dir = os.path.join(DATA_DIR, 'validation')\n",
        "test_dir = os.path.join(DATA_DIR, 'test')\n",
        "\n",
        "# Check if the directories exist\n",
        "if not os.path.exists(train_dir):\n",
        "    raise FileNotFoundError(f\"Training data directory not found: {train_dir}\")\n",
        "if not os.path.exists(val_dir):\n",
        "    raise FileNotFoundError(f\"Validation data directory not found: {val_dir}\")\n",
        "if not os.path.exists(test_dir):\n",
        "    raise FileNotFoundError(f\"Test data directory not found: {test_dir}\")\n",
        "\n",
        "# Load datasets\n",
        "train_dataset = tf.keras.preprocessing.image_dataset_from_directory(\n",
        "    train_dir,  # Training dataset directory\n",
        "    image_size=IMG_SIZE,\n",
        "    batch_size=BATCH_SIZE,\n",
        "    label_mode=\"categorical\",  # One-hot encode labels\n",
        "    shuffle=True  # Shuffle data for better training\n",
        ")\n",
        "\n",
        "val_dataset = tf.keras.preprocessing.image_dataset_from_directory(\n",
        "    val_dir,  # Validation dataset directory\n",
        "    image_size=IMG_SIZE,\n",
        "    batch_size=BATCH_SIZE,\n",
        "    label_mode=\"categorical\"\n",
        ")\n",
        "\n",
        "test_dataset = tf.keras.preprocessing.image_dataset_from_directory(\n",
        "    test_dir,  # Test dataset directory\n",
        "    image_size=IMG_SIZE,\n",
        "    batch_size=BATCH_SIZE,\n",
        "    label_mode=\"categorical\"\n",
        ")"
      ],
      "cell_type": "code",
      "metadata": {
        "colab": {
          "base_uri": "https://localhost:8080/"
        },
        "id": "emI31yLJU7VY",
        "outputId": "fdc7656f-a80a-4b43-eebc-9d34192c3f11"
      },
      "execution_count": 3,
      "outputs": [
        {
          "output_type": "stream",
          "name": "stdout",
          "text": [
            "Drive already mounted at /content/drive; to attempt to forcibly remount, call drive.mount(\"/content/drive\", force_remount=True).\n",
            "Found 3109 files belonging to 4 classes.\n",
            "Found 820 files belonging to 4 classes.\n",
            "Found 150 files belonging to 4 classes.\n"
          ]
        }
      ]
    },
    {
      "cell_type": "markdown",
      "metadata": {
        "id": "oJ4-OSikTVtn"
      },
      "source": [
        "Step 3: Define and Prepare Models\n",
        "Implement multiple models for comparison, including:\n",
        "\n",
        "Dense Neural Network (DNN): A fully connected network for simple datasets.\n",
        "Convolutional Neural Network (CNN): A network with convolutional layers for image recognition.\n",
        "Pretrained Models (VGG16, ResNet50, MobileNetV2): Transfer learning with pretrained base models.\n",
        "Code for Model Definitions"
      ]
    },
    {
      "cell_type": "code",
      "execution_count": 4,
      "metadata": {
        "id": "dfqxTGaRPteB"
      },
      "outputs": [],
      "source": [
        "from tensorflow.keras.models import Sequential\n",
        "from tensorflow.keras.layers import Dense, Flatten, Conv2D, MaxPooling2D, Dropout\n",
        "from tensorflow.keras.applications import VGG16, ResNet50, MobileNetV2\n",
        "\n",
        "# 1. Dense Neural Network (DNN)\n",
        "def create_dnn(input_shape, num_classes):\n",
        "    model = Sequential([\n",
        "        Flatten(input_shape=input_shape),\n",
        "        Dense(128, activation='relu'),\n",
        "        Dropout(0.3),\n",
        "        Dense(num_classes, activation='softmax')\n",
        "    ])\n",
        "    return model\n",
        "\n",
        "# 2. Convolutional Neural Network (CNN)\n",
        "def create_cnn(input_shape, num_classes):\n",
        "    model = Sequential([\n",
        "        Conv2D(32, (3, 3), activation='relu', input_shape=input_shape),\n",
        "        MaxPooling2D((2, 2)),\n",
        "        Conv2D(64, (3, 3), activation='relu'),\n",
        "        MaxPooling2D((2, 2)),\n",
        "        Flatten(),\n",
        "        Dense(128, activation='relu'),\n",
        "        Dropout(0.3),\n",
        "        Dense(num_classes, activation='softmax')\n",
        "    ])\n",
        "    return model\n",
        "\n",
        "# 3. Pretrained Models\n",
        "def create_pretrained_model(base_model_fn, input_shape, num_classes):\n",
        "    base_model = base_model_fn(include_top=False, input_shape=input_shape, weights='imagenet')\n",
        "    model = Sequential([\n",
        "        base_model,\n",
        "        Flatten(),\n",
        "        Dense(128, activation='relu'),\n",
        "        Dropout(0.3),\n",
        "        Dense(num_classes, activation='softmax')\n",
        "    ])\n",
        "    base_model.trainable = False  # Freeze the base model\n",
        "    return model\n"
      ]
    },
    {
      "cell_type": "markdown",
      "metadata": {
        "id": "t1DRdHm9Tr4o"
      },
      "source": [
        "Step 4: Prepare Models for Training\n",
        "Initialize all models with the required input shape and number of output classes.\n",
        "\n",
        "Code for Model Preparation"
      ]
    },
    {
      "cell_type": "code",
      "execution_count": 5,
      "metadata": {
        "colab": {
          "base_uri": "https://localhost:8080/",
          "height": 211
        },
        "id": "w2xVg4fqP7s1",
        "outputId": "60855323-d503-499d-fc9c-f6a6c1c3d0f5"
      },
      "outputs": [
        {
          "output_type": "error",
          "ename": "NameError",
          "evalue": "name 'AUTOTUNE' is not defined",
          "traceback": [
            "\u001b[0;31m---------------------------------------------------------------------------\u001b[0m",
            "\u001b[0;31mNameError\u001b[0m                                 Traceback (most recent call last)",
            "\u001b[0;32m<ipython-input-5-57fff52446ea>\u001b[0m in \u001b[0;36m<cell line: 5>\u001b[0;34m()\u001b[0m\n\u001b[1;32m      3\u001b[0m \u001b[0mtest_class_names\u001b[0m \u001b[0;34m=\u001b[0m \u001b[0mtest_dataset\u001b[0m\u001b[0;34m.\u001b[0m\u001b[0mclass_names\u001b[0m  \u001b[0;31m# (if applicable)\u001b[0m\u001b[0;34m\u001b[0m\u001b[0;34m\u001b[0m\u001b[0m\n\u001b[1;32m      4\u001b[0m \u001b[0;34m\u001b[0m\u001b[0m\n\u001b[0;32m----> 5\u001b[0;31m \u001b[0mtrain_dataset\u001b[0m \u001b[0;34m=\u001b[0m \u001b[0mtrain_dataset\u001b[0m\u001b[0;34m.\u001b[0m\u001b[0mprefetch\u001b[0m\u001b[0;34m(\u001b[0m\u001b[0mbuffer_size\u001b[0m\u001b[0;34m=\u001b[0m\u001b[0mAUTOTUNE\u001b[0m\u001b[0;34m)\u001b[0m\u001b[0;34m\u001b[0m\u001b[0;34m\u001b[0m\u001b[0m\n\u001b[0m\u001b[1;32m      6\u001b[0m \u001b[0mval_dataset\u001b[0m \u001b[0;34m=\u001b[0m \u001b[0mval_dataset\u001b[0m\u001b[0;34m.\u001b[0m\u001b[0mprefetch\u001b[0m\u001b[0;34m(\u001b[0m\u001b[0mbuffer_size\u001b[0m\u001b[0;34m=\u001b[0m\u001b[0mAUTOTUNE\u001b[0m\u001b[0;34m)\u001b[0m\u001b[0;34m\u001b[0m\u001b[0;34m\u001b[0m\u001b[0m\n\u001b[1;32m      7\u001b[0m \u001b[0mtest_dataset\u001b[0m \u001b[0;34m=\u001b[0m \u001b[0mtest_dataset\u001b[0m\u001b[0;34m.\u001b[0m\u001b[0mprefetch\u001b[0m\u001b[0;34m(\u001b[0m\u001b[0mbuffer_size\u001b[0m\u001b[0;34m=\u001b[0m\u001b[0mAUTOTUNE\u001b[0m\u001b[0;34m)\u001b[0m\u001b[0;34m\u001b[0m\u001b[0;34m\u001b[0m\u001b[0m\n",
            "\u001b[0;31mNameError\u001b[0m: name 'AUTOTUNE' is not defined"
          ]
        }
      ],
      "source": [
        "class_names = train_dataset.class_names  # Access before prefetch\n",
        "val_class_names = val_dataset.class_names  # (if applicable)\n",
        "test_class_names = test_dataset.class_names  # (if applicable)\n",
        "\n",
        "train_dataset = train_dataset.prefetch(buffer_size=AUTOTUNE)\n",
        "val_dataset = val_dataset.prefetch(buffer_size=AUTOTUNE)\n",
        "test_dataset = test_dataset.prefetch(buffer_size=AUTOTUNE)\n",
        "\n",
        "# Print class names for verification\n",
        "print(\"Class Names:\", class_names)\n",
        "print(\"Validation Class Names:\", val_class_names)\n",
        "print(\"Test Class Names:\", test_class_names)\n",
        "\n",
        "# Retrieve class names and number of classes\n",
        "class_names = class_names\n",
        "num_classes = len(class_names)\n",
        "\n",
        "# Print class names for verification\n",
        "print(\"Class Names:\", class_names)\n",
        "\n",
        "\n",
        "# Prepare models\n",
        "models = {}\n",
        "models['DNN'] = create_dnn(input_shape, num_classes)\n",
        "models['CNN'] = create_cnn(input_shape, num_classes)\n",
        "models['VGG16'] = create_pretrained_model(VGG16, input_shape, num_classes)\n",
        "models['ResNet50'] = create_pretrained_model(ResNet50, input_shape, num_classes)\n",
        "models['MobileNetV2'] = create_pretrained_model(MobileNetV2, input_shape, num_classes)\n",
        "\n"
      ]
    },
    {
      "source": [
        "# ipython-input-3-57fff52446ea\n",
        "import tensorflow as tf\n",
        "import os\n",
        "\n",
        "# Mount Google Drive\n",
        "from google.colab import drive\n",
        "drive.mount('/content/drive')\n",
        "\n",
        "# Define image size and batch size\n",
        "IMG_SIZE = (224, 224)  # Resize all images to 224x224\n",
        "BATCH_SIZE = 32\n",
        "\n",
        "# Path to your dataset on Google Drive\n",
        "# Replace with the actual path to your dataset folder\n",
        "DATA_DIR = '/content/drive/My Drive/dataset'\n",
        "\n",
        "# Construct the absolute paths to the data directories\n",
        "train_dir = os.path.join(DATA_DIR, 'train')\n",
        "val_dir = os.path.join(DATA_DIR, 'validation')\n",
        "test_dir = os.path.join(DATA_DIR, 'test')\n",
        "\n",
        "# Check if the directories exist\n",
        "if not os.path.exists(train_dir):\n",
        "    raise FileNotFoundError(f\"Training data directory not found: {train_dir}\")\n",
        "if not os.path.exists(val_dir):\n",
        "    raise FileNotFoundError(f\"Validation data directory not found: {val_dir}\")\n",
        "if not os.path.exists(test_dir):\n",
        "    raise FileNotFoundError(f\"Test data directory not found: {test_dir}\")\n",
        "\n",
        "# Load datasets\n",
        "train_dataset = tf.keras.preprocessing.image_dataset_from_directory(\n",
        "    train_dir,  # Training dataset directory\n",
        "    image_size=IMG_SIZE,\n",
        "    batch_size=BATCH_SIZE,\n",
        "    label_mode=\"categorical\",  # One-hot encode labels\n",
        "    shuffle=True  # Shuffle data for better training\n",
        ")\n",
        "\n",
        "val_dataset = tf.keras.preprocessing.image_dataset_from_directory(\n",
        "    val_dir,  # Validation dataset directory\n",
        "    image_size=IMG_SIZE,\n",
        "    batch_size=BATCH_SIZE,\n",
        "    label_mode=\"categorical\"\n",
        ")\n",
        "\n",
        "test_dataset = tf.keras.preprocessing.image_dataset_from_directory(\n",
        "    test_dir,  # Test dataset directory\n",
        "    image_size=IMG_SIZE,\n",
        "    batch_size=BATCH_SIZE,\n",
        "    label_mode=\"categorical\"\n",
        ")\n",
        "\n",
        "# ipython-input-4-57fff52446ea\n",
        "from tensorflow.keras.models import Sequential\n",
        "from tensorflow.keras.layers import Dense, Flatten, Conv2D, MaxPooling2D, Dropout\n",
        "from tensorflow.keras.applications import VGG16, ResNet50, MobileNetV2\n",
        "\n",
        "# 1. Dense Neural Network (DNN)\n",
        "def create_dnn(input_shape, num_classes):\n",
        "    model = Sequential([\n",
        "        Flatten(input_shape=input_shape),\n",
        "        Dense(128, activation='relu'),\n",
        "        Dropout(0.3),\n",
        "        Dense(num_classes, activation='softmax')\n",
        "    ])\n",
        "    return model\n",
        "\n",
        "# 2. Convolutional Neural Network (CNN)\n",
        "def create_cnn(input_shape, num_classes):\n",
        "    model = Sequential([\n",
        "        Conv2D(32, (3, 3), activation='relu', input_shape=input_shape),\n",
        "        MaxPooling2D((2, 2)),\n",
        "        Conv2D(64, (3, 3), activation='relu'),\n",
        "        MaxPooling2D((2, 2)),\n",
        "        Flatten(),\n",
        "        Dense(128, activation='relu'),\n",
        "        Dropout(0.3),\n",
        "        Dense(num_classes, activation='softmax')\n",
        "    ])\n",
        "    return model\n",
        "\n",
        "# 3. Pretrained Models\n",
        "def create_pretrained_model(base_model_fn, input_shape, num_classes):\n",
        "    base_model = base_model_fn(include_top=False, input_shape=input_shape, weights='imagenet')\n",
        "    model = Sequential([\n",
        "        base_model,\n",
        "        Flatten(),\n",
        "        Dense(128, activation='relu'),\n",
        "        Dropout(0.3),\n",
        "        Dense(num_classes, activation='softmax')\n",
        "    ])\n",
        "    base_model.trainable = False  # Freeze the base model\n",
        "    return model\n",
        "\n",
        "\n",
        "# ipython-input-5-57fff52446ea\n",
        "class_names = train_dataset.class_names  # Access before prefetch\n",
        "val_class_names = val_dataset.class_names  # (if applicable)\n",
        "test_class_names = test_dataset.class_names  #"
      ],
      "cell_type": "code",
      "metadata": {
        "colab": {
          "base_uri": "https://localhost:8080/"
        },
        "id": "7lUvQQvWWoSZ",
        "outputId": "397b1d5c-7c7b-47b6-8bd5-a7237102fce1"
      },
      "execution_count": 6,
      "outputs": [
        {
          "output_type": "stream",
          "name": "stdout",
          "text": [
            "Drive already mounted at /content/drive; to attempt to forcibly remount, call drive.mount(\"/content/drive\", force_remount=True).\n",
            "Found 3099 files belonging to 4 classes.\n",
            "Found 820 files belonging to 4 classes.\n",
            "Found 200 files belonging to 4 classes.\n"
          ]
        }
      ]
    },
    {
      "cell_type": "markdown",
      "metadata": {
        "id": "xgCbzj33Twio"
      },
      "source": [
        "Step 5: Train and Evaluate Models\n",
        "Train each model on the training dataset, validate using the validation dataset, and evaluate using the test dataset.\n",
        "\n",
        "Code for Training and Evaluation"
      ]
    },
    {
      "cell_type": "code",
      "execution_count": 7,
      "metadata": {
        "colab": {
          "base_uri": "https://localhost:8080/",
          "height": 211
        },
        "id": "mapvvuMpQIiN",
        "outputId": "cc8f47b6-3f1d-489a-9c16-ab971055392c"
      },
      "outputs": [
        {
          "output_type": "error",
          "ename": "NameError",
          "evalue": "name 'models' is not defined",
          "traceback": [
            "\u001b[0;31m---------------------------------------------------------------------------\u001b[0m",
            "\u001b[0;31mNameError\u001b[0m                                 Traceback (most recent call last)",
            "\u001b[0;32m<ipython-input-7-cf48600d7915>\u001b[0m in \u001b[0;36m<cell line: 3>\u001b[0;34m()\u001b[0m\n\u001b[1;32m      1\u001b[0m \u001b[0;31m# Train and evaluate models\u001b[0m\u001b[0;34m\u001b[0m\u001b[0;34m\u001b[0m\u001b[0m\n\u001b[1;32m      2\u001b[0m \u001b[0mresults\u001b[0m \u001b[0;34m=\u001b[0m \u001b[0;34m{\u001b[0m\u001b[0;34m}\u001b[0m\u001b[0;34m\u001b[0m\u001b[0;34m\u001b[0m\u001b[0m\n\u001b[0;32m----> 3\u001b[0;31m \u001b[0;32mfor\u001b[0m \u001b[0mname\u001b[0m\u001b[0;34m,\u001b[0m \u001b[0mmodel\u001b[0m \u001b[0;32min\u001b[0m \u001b[0mmodels\u001b[0m\u001b[0;34m.\u001b[0m\u001b[0mitems\u001b[0m\u001b[0;34m(\u001b[0m\u001b[0;34m)\u001b[0m\u001b[0;34m:\u001b[0m\u001b[0;34m\u001b[0m\u001b[0;34m\u001b[0m\u001b[0m\n\u001b[0m\u001b[1;32m      4\u001b[0m     \u001b[0mprint\u001b[0m\u001b[0;34m(\u001b[0m\u001b[0;34mf\"Training {name}...\"\u001b[0m\u001b[0;34m)\u001b[0m\u001b[0;34m\u001b[0m\u001b[0;34m\u001b[0m\u001b[0m\n\u001b[1;32m      5\u001b[0m     \u001b[0mmodel\u001b[0m\u001b[0;34m.\u001b[0m\u001b[0mcompile\u001b[0m\u001b[0;34m(\u001b[0m\u001b[0moptimizer\u001b[0m\u001b[0;34m=\u001b[0m\u001b[0;34m'adam'\u001b[0m\u001b[0;34m,\u001b[0m \u001b[0mloss\u001b[0m\u001b[0;34m=\u001b[0m\u001b[0;34m'categorical_crossentropy'\u001b[0m\u001b[0;34m,\u001b[0m \u001b[0mmetrics\u001b[0m\u001b[0;34m=\u001b[0m\u001b[0;34m[\u001b[0m\u001b[0;34m'accuracy'\u001b[0m\u001b[0;34m]\u001b[0m\u001b[0;34m)\u001b[0m\u001b[0;34m\u001b[0m\u001b[0;34m\u001b[0m\u001b[0m\n",
            "\u001b[0;31mNameError\u001b[0m: name 'models' is not defined"
          ]
        }
      ],
      "source": [
        "# Train and evaluate models\n",
        "results = {}\n",
        "for name, model in models.items():\n",
        "    print(f\"Training {name}...\")\n",
        "    model.compile(optimizer='adam', loss='categorical_crossentropy', metrics=['accuracy'])\n",
        "\n",
        "    # Train the model\n",
        "    history = model.fit(train_dataset, validation_data=val_dataset, epochs=5)\n",
        "\n",
        "    # Evaluate the model on the test dataset\n",
        "    results[name] = model.evaluate(test_dataset, verbose=0)\n",
        "\n",
        "# Display results\n",
        "for model_name, result in results.items():\n",
        "    print(f\"{model_name} - Loss: {result[0]:.4f}, Accuracy: {result[1] * 100:.2f}%\")\n",
        "\n"
      ]
    },
    {
      "source": [
        "# ipython-input-7-cf48600d7915\n",
        "# Import necessary libraries\n",
        "from tensorflow.keras.models import Sequential\n",
        "from tensorflow.keras.layers import Dense, Flatten, Conv2D, MaxPooling2D, Dropout\n",
        "from tensorflow.keras.applications import VGG16, ResNet50, MobileNetV2\n",
        "from tensorflow import AUTOTUNE\n",
        "\n",
        "\n",
        "# 1. Dense Neural Network (DNN)\n",
        "def create_dnn(input_shape, num_classes):\n",
        "    model = Sequential([\n",
        "        Flatten(input_shape=input_shape),\n",
        "        Dense(128, activation='relu'),\n",
        "        Dropout(0.3),\n",
        "        Dense(num_classes, activation='softmax')\n",
        "    ])\n",
        "    return model\n",
        "\n",
        "# 2. Convolutional Neural Network (CNN)\n",
        "def create_cnn(input_shape, num_classes):\n",
        "    model = Sequential([\n",
        "        Conv2D(32, (3, 3), activation='relu', input_shape=input_shape),\n",
        "        MaxPooling2D((2, 2)),\n",
        "        Conv2D(64, (3, 3), activation='relu'),\n",
        "        MaxPooling2D((2, 2)),\n",
        "        Flatten(),\n",
        "        Dense(128, activation='relu'),\n",
        "        Dropout(0.3),\n",
        "        Dense(num_classes, activation='softmax')\n",
        "    ])\n",
        "    return model\n",
        "\n",
        "# 3. Pretrained Models\n",
        "def create_pretrained_model(base_model_fn, input_shape, num_classes):\n",
        "    base_model = base_model_fn(include_top=False, input_shape=input_shape, weights='imagenet')\n",
        "    model = Sequential([\n",
        "        base_model,\n",
        "        Flatten(),\n",
        "        Dense(128, activation='relu'),\n",
        "        Dropout(0.3),\n",
        "        Dense(num_classes, activation='softmax')\n",
        "    ])\n",
        "    base_model.trainable = False  # Freeze the base model\n",
        "    return model\n",
        "\n",
        "# Assuming input_shape and num_classes are defined in your previous cells\n",
        "input_shape = (224, 224, 3)  # Example input shape for images\n",
        "num_classes = len(class_names)  # Replace with your actual number of classes\n",
        "\n",
        "# Prepare models\n",
        "models = {}\n",
        "models['DNN'] = create_dnn(input_shape, num_classes)\n",
        "models['CNN'] = create_cnn(input_shape, num_classes)\n",
        "models['VGG16'] = create_pretrained_model(VGG16, input_shape, num_classes)\n",
        "models['ResNet50'] = create_pretrained_model(ResNet50, input_shape, num_classes)\n",
        "models['MobileNetV2'] = create_pretrained_model(MobileNetV2, input_shape, num_classes)\n",
        "\n",
        "# Train and evaluate models\n",
        "results = {}\n",
        "for name, model in models.items():\n",
        "    print(f\"Training {name}...\")\n",
        "    model.compile(optimizer='adam', loss='categorical_crossentropy', metrics=['accuracy'])\n",
        "\n",
        "    # Train the model\n",
        "    history = model.fit(train_dataset, validation_data=val_dataset, epochs=5)\n",
        "\n",
        "    # Evaluate the model on the test dataset\n",
        "    results[name] = model.evaluate(test_dataset, verbose=0)\n",
        "\n",
        "# Display results\n",
        "for model_name, result in results.items():\n",
        "    print(f\"{model_name} - Loss: {result[0]:.4f}, Accuracy: {result[1] * 100:.2f}%\")"
      ],
      "cell_type": "code",
      "metadata": {
        "colab": {
          "base_uri": "https://localhost:8080/",
          "height": 384
        },
        "id": "81vd4iMzW2fw",
        "outputId": "f75942f9-9a68-4c21-f46b-44927253fd28"
      },
      "execution_count": 8,
      "outputs": [
        {
          "output_type": "error",
          "ename": "ImportError",
          "evalue": "cannot import name 'AUTOTUNE' from 'tensorflow' (/usr/local/lib/python3.10/dist-packages/tensorflow/__init__.py)",
          "traceback": [
            "\u001b[0;31m---------------------------------------------------------------------------\u001b[0m",
            "\u001b[0;31mImportError\u001b[0m                               Traceback (most recent call last)",
            "\u001b[0;32m<ipython-input-8-6d29e20f899d>\u001b[0m in \u001b[0;36m<cell line: 6>\u001b[0;34m()\u001b[0m\n\u001b[1;32m      4\u001b[0m \u001b[0;32mfrom\u001b[0m \u001b[0mtensorflow\u001b[0m\u001b[0;34m.\u001b[0m\u001b[0mkeras\u001b[0m\u001b[0;34m.\u001b[0m\u001b[0mlayers\u001b[0m \u001b[0;32mimport\u001b[0m \u001b[0mDense\u001b[0m\u001b[0;34m,\u001b[0m \u001b[0mFlatten\u001b[0m\u001b[0;34m,\u001b[0m \u001b[0mConv2D\u001b[0m\u001b[0;34m,\u001b[0m \u001b[0mMaxPooling2D\u001b[0m\u001b[0;34m,\u001b[0m \u001b[0mDropout\u001b[0m\u001b[0;34m\u001b[0m\u001b[0;34m\u001b[0m\u001b[0m\n\u001b[1;32m      5\u001b[0m \u001b[0;32mfrom\u001b[0m \u001b[0mtensorflow\u001b[0m\u001b[0;34m.\u001b[0m\u001b[0mkeras\u001b[0m\u001b[0;34m.\u001b[0m\u001b[0mapplications\u001b[0m \u001b[0;32mimport\u001b[0m \u001b[0mVGG16\u001b[0m\u001b[0;34m,\u001b[0m \u001b[0mResNet50\u001b[0m\u001b[0;34m,\u001b[0m \u001b[0mMobileNetV2\u001b[0m\u001b[0;34m\u001b[0m\u001b[0;34m\u001b[0m\u001b[0m\n\u001b[0;32m----> 6\u001b[0;31m \u001b[0;32mfrom\u001b[0m \u001b[0mtensorflow\u001b[0m \u001b[0;32mimport\u001b[0m \u001b[0mAUTOTUNE\u001b[0m\u001b[0;34m\u001b[0m\u001b[0;34m\u001b[0m\u001b[0m\n\u001b[0m\u001b[1;32m      7\u001b[0m \u001b[0;34m\u001b[0m\u001b[0m\n\u001b[1;32m      8\u001b[0m \u001b[0;34m\u001b[0m\u001b[0m\n",
            "\u001b[0;31mImportError\u001b[0m: cannot import name 'AUTOTUNE' from 'tensorflow' (/usr/local/lib/python3.10/dist-packages/tensorflow/__init__.py)",
            "",
            "\u001b[0;31m---------------------------------------------------------------------------\u001b[0;32m\nNOTE: If your import is failing due to a missing package, you can\nmanually install dependencies using either !pip or !apt.\n\nTo view examples of installing some common dependencies, click the\n\"Open Examples\" button below.\n\u001b[0;31m---------------------------------------------------------------------------\u001b[0m\n"
          ],
          "errorDetails": {
            "actions": [
              {
                "action": "open_url",
                "actionText": "Open Examples",
                "url": "/notebooks/snippets/importing_libraries.ipynb"
              }
            ]
          }
        }
      ]
    },
    {
      "source": [
        "# ipython-input-8-6d29e20f899d\n",
        "# Import necessary libraries\n",
        "from tensorflow.keras.models import Sequential\n",
        "from tensorflow.keras.layers import Dense, Flatten, Conv2D, MaxPooling2D, Dropout\n",
        "from tensorflow.keras.applications import VGG16, ResNet50, MobileNetV2\n",
        "# Updated import statement\n",
        "from tensorflow.data import AUTOTUNE  # Import AUTOTUNE from tensorflow.data\n",
        "\n",
        "# 1. Dense Neural Network (DNN)\n",
        "def create_dnn(input_shape, num_classes):\n",
        "    model = Sequential([\n",
        "        Flatten(input_shape=input_shape),\n",
        "        Dense(128, activation='relu'),\n",
        "        Dropout(0.3),\n",
        "        Dense(num_classes, activation='softmax')\n",
        "    ])\n",
        "    return model\n",
        "\n",
        "# 2. Convolutional Neural Network (CNN)\n",
        "def create_cnn(input_shape, num_classes):\n",
        "    model = Sequential([\n",
        "        Conv2D(32, (3, 3), activation='relu', input_shape=input_shape),\n",
        "        MaxPooling2D((2, 2)),\n",
        "        Conv2D(64, (3, 3), activation='relu'),\n",
        "        MaxPooling2D((2, 2)),\n",
        "        Flatten(),\n",
        "        Dense(128, activation='relu'),\n",
        "        Dropout(0.3),\n",
        "        Dense(num_classes, activation='softmax')\n",
        "    ])\n",
        "    return model\n",
        "\n",
        "# 3. Pretrained Models\n",
        "def create_pretrained_model(base_model_fn, input_shape, num_classes):\n",
        "    base_model = base_model_fn(include_top=False, input_shape=input_shape, weights='imagenet')\n",
        "    model = Sequential([\n",
        "        base_model,\n",
        "        Flatten(),\n",
        "        Dense(128, activation='relu'),\n",
        "        Dropout(0.3),\n",
        "        Dense(num_classes, activation='softmax')\n",
        "    ])\n",
        "    base_model.trainable = False  # Freeze the base model\n",
        "    return model\n",
        "\n",
        "# Assuming input_shape and num_classes are defined in your previous cells\n",
        "input_shape = (224, 224, 3)  # Example input shape for images\n",
        "# Use train_dataset.class_names instead of class_names\n",
        "num_classes = len(train_dataset.class_names)  # Replace with your actual number of classes\n",
        "\n",
        "# Prepare models\n",
        "models = {}\n",
        "models['DNN'] = create_dnn(input_shape, num_classes)\n",
        "models['CNN'] = create_cnn(input_shape, num_classes)\n",
        "models['VGG16'] = create_pretrained_model(VGG16, input_shape, num_classes)\n",
        "models['ResNet50'] = create_pretrained_model(ResNet50, input_shape, num_classes)\n",
        "models['MobileNetV2'] = create_pretrained_model(MobileNetV2, input_shape, num_classes)\n",
        "\n",
        "# Train and evaluate models\n",
        "results = {}\n",
        "for name, model in models.items():\n",
        "    print(f\"Training {name}...\")\n",
        "    model.compile(optimizer='adam', loss='categorical_crossentropy', metrics=['accuracy'])\n",
        "\n",
        "    # Train the model\n",
        "    history = model.fit(train_dataset, validation_data=val_dataset, epochs=5)\n",
        "\n",
        "    # Evaluate the model on the test dataset\n",
        "    results[name] = model.evaluate(test_dataset, verbose=0)\n",
        "\n",
        "# Display results\n",
        "for model_name, result in results.items():\n",
        "    print(f\"{model_name} - Loss: {result[0]:.4f}, Accuracy: {result[1] * 100:.2f}%\")"
      ],
      "cell_type": "code",
      "metadata": {
        "colab": {
          "base_uri": "https://localhost:8080/"
        },
        "id": "grG1Ja_wXFg3",
        "outputId": "2c08cd16-819f-46ef-8f6e-b1c138eb5996"
      },
      "execution_count": null,
      "outputs": [
        {
          "output_type": "stream",
          "name": "stderr",
          "text": [
            "/usr/local/lib/python3.10/dist-packages/keras/src/layers/reshaping/flatten.py:37: UserWarning: Do not pass an `input_shape`/`input_dim` argument to a layer. When using Sequential models, prefer using an `Input(shape)` object as the first layer in the model instead.\n",
            "  super().__init__(**kwargs)\n",
            "/usr/local/lib/python3.10/dist-packages/keras/src/layers/convolutional/base_conv.py:107: UserWarning: Do not pass an `input_shape`/`input_dim` argument to a layer. When using Sequential models, prefer using an `Input(shape)` object as the first layer in the model instead.\n",
            "  super().__init__(activity_regularizer=activity_regularizer, **kwargs)\n"
          ]
        },
        {
          "output_type": "stream",
          "name": "stdout",
          "text": [
            "Downloading data from https://storage.googleapis.com/tensorflow/keras-applications/vgg16/vgg16_weights_tf_dim_ordering_tf_kernels_notop.h5\n",
            "\u001b[1m58889256/58889256\u001b[0m \u001b[32m━━━━━━━━━━━━━━━━━━━━\u001b[0m\u001b[37m\u001b[0m \u001b[1m0s\u001b[0m 0us/step\n",
            "Downloading data from https://storage.googleapis.com/tensorflow/keras-applications/resnet/resnet50_weights_tf_dim_ordering_tf_kernels_notop.h5\n",
            "\u001b[1m94765736/94765736\u001b[0m \u001b[32m━━━━━━━━━━━━━━━━━━━━\u001b[0m\u001b[37m\u001b[0m \u001b[1m1s\u001b[0m 0us/step\n",
            "Downloading data from https://storage.googleapis.com/tensorflow/keras-applications/mobilenet_v2/mobilenet_v2_weights_tf_dim_ordering_tf_kernels_1.0_224_no_top.h5\n",
            "\u001b[1m9406464/9406464\u001b[0m \u001b[32m━━━━━━━━━━━━━━━━━━━━\u001b[0m\u001b[37m\u001b[0m \u001b[1m0s\u001b[0m 0us/step\n",
            "Training DNN...\n",
            "Epoch 1/5\n",
            "\u001b[1m97/97\u001b[0m \u001b[32m━━━━━━━━━━━━━━━━━━━━\u001b[0m\u001b[37m\u001b[0m \u001b[1m576s\u001b[0m 6s/step - accuracy: 0.3974 - loss: 1185.6765 - val_accuracy: 0.1000 - val_loss: 109.1739\n",
            "Epoch 2/5\n",
            "\u001b[1m97/97\u001b[0m \u001b[32m━━━━━━━━━━━━━━━━━━━━\u001b[0m\u001b[37m\u001b[0m \u001b[1m198s\u001b[0m 2s/step - accuracy: 0.3676 - loss: 1.8866 - val_accuracy: 0.1037 - val_loss: 99.8630\n",
            "Epoch 3/5\n",
            "\u001b[1m97/97\u001b[0m \u001b[32m━━━━━━━━━━━━━━━━━━━━\u001b[0m\u001b[37m\u001b[0m \u001b[1m141s\u001b[0m 1s/step - accuracy: 0.3719 - loss: 1.5507 - val_accuracy: 0.1207 - val_loss: 80.7416\n",
            "Epoch 4/5\n",
            "\u001b[1m97/97\u001b[0m \u001b[32m━━━━━━━━━━━━━━━━━━━━\u001b[0m\u001b[37m\u001b[0m \u001b[1m140s\u001b[0m 1s/step - accuracy: 0.3669 - loss: 1.2789 - val_accuracy: 0.1207 - val_loss: 84.2061\n",
            "Epoch 5/5\n",
            "\u001b[1m97/97\u001b[0m \u001b[32m━━━━━━━━━━━━━━━━━━━━\u001b[0m\u001b[37m\u001b[0m \u001b[1m140s\u001b[0m 1s/step - accuracy: 0.3658 - loss: 1.2801 - val_accuracy: 0.1220 - val_loss: 81.1657\n",
            "Training CNN...\n",
            "Epoch 1/5\n",
            "\u001b[1m97/97\u001b[0m \u001b[32m━━━━━━━━━━━━━━━━━━━━\u001b[0m\u001b[37m\u001b[0m \u001b[1m435s\u001b[0m 4s/step - accuracy: 0.4117 - loss: 132.1808 - val_accuracy: 0.1500 - val_loss: 3.0382\n",
            "Epoch 2/5\n",
            "\u001b[1m97/97\u001b[0m \u001b[32m━━━━━━━━━━━━━━━━━━━━\u001b[0m\u001b[37m\u001b[0m \u001b[1m478s\u001b[0m 5s/step - accuracy: 0.8258 - loss: 0.4734 - val_accuracy: 0.2000 - val_loss: 4.6953\n",
            "Epoch 3/5\n",
            "\u001b[1m97/97\u001b[0m \u001b[32m━━━━━━━━━━━━━━━━━━━━\u001b[0m\u001b[37m\u001b[0m \u001b[1m464s\u001b[0m 4s/step - accuracy: 0.9699 - loss: 0.1057 - val_accuracy: 0.1817 - val_loss: 6.2069\n",
            "Epoch 4/5\n",
            "\u001b[1m97/97\u001b[0m \u001b[32m━━━━━━━━━━━━━━━━━━━━\u001b[0m\u001b[37m\u001b[0m \u001b[1m482s\u001b[0m 5s/step - accuracy: 0.9903 - loss: 0.0376 - val_accuracy: 0.1878 - val_loss: 6.4741\n",
            "Epoch 5/5\n",
            "\u001b[1m97/97\u001b[0m \u001b[32m━━━━━━━━━━━━━━━━━━━━\u001b[0m\u001b[37m\u001b[0m \u001b[1m468s\u001b[0m 4s/step - accuracy: 0.9945 - loss: 0.0240 - val_accuracy: 0.1622 - val_loss: 8.5458\n",
            "Training VGG16...\n",
            "Epoch 1/5\n",
            "\u001b[1m97/97\u001b[0m \u001b[32m━━━━━━━━━━━━━━━━━━━━\u001b[0m\u001b[37m\u001b[0m \u001b[1m2678s\u001b[0m 28s/step - accuracy: 0.8222 - loss: 4.2827 - val_accuracy: 0.2768 - val_loss: 58.3714\n",
            "Epoch 2/5\n",
            "\u001b[1m97/97\u001b[0m \u001b[32m━━━━━━━━━━━━━━━━━━━━\u001b[0m\u001b[37m\u001b[0m \u001b[1m2718s\u001b[0m 28s/step - accuracy: 0.9827 - loss: 0.0917 - val_accuracy: 0.2634 - val_loss: 54.3139\n",
            "Epoch 3/5\n",
            "\u001b[1m97/97\u001b[0m \u001b[32m━━━━━━━━━━━━━━━━━━━━\u001b[0m\u001b[37m\u001b[0m \u001b[1m2707s\u001b[0m 27s/step - accuracy: 0.9876 - loss: 0.0711 - val_accuracy: 0.2671 - val_loss: 64.6940\n",
            "Epoch 4/5\n",
            "\u001b[1m45/97\u001b[0m \u001b[32m━━━━━━━━━\u001b[0m\u001b[37m━━━━━━━━━━━\u001b[0m \u001b[1m18:45\u001b[0m 22s/step - accuracy: 0.9979 - loss: 0.0162"
          ]
        }
      ]
    },
    {
      "cell_type": "code",
      "execution_count": null,
      "metadata": {
        "id": "eNkP6HYkcOs0",
        "outputId": "6b4f53c0-b469-4212-a8ef-4f02a7ff9762"
      },
      "outputs": [
        {
          "data": {
            "image/png": "[encoded data removed]",
            "text/plain": [
              "<Figure size 1400x600 with 2 Axes>"
            ]
          },
          "metadata": {},
          "output_type": "display_data"
        }
      ],
      "source": [
        "import matplotlib.pyplot as plt\n",
        "import numpy as np\n",
        "\n",
        "# Results dictionary from the last code\n",
        "results = {\n",
        "    \"DNN\": [1.1034, 0.3654],\n",
        "    \"CNN\": [2.7542, 0.4219],\n",
        "    \"VGG16\": [0.2833, 0.9169],\n",
        "    \"ResNet50\": [0.3446, 0.9402],\n",
        "    \"MobileNetV2\": [0.4730, 0.8106],\n",
        "}\n",
        "\n",
        "# Extract model names, losses, and accuracies\n",
        "model_names = list(results.keys())\n",
        "losses = [result[0] for result in results.values()]\n",
        "accuracies = [result[1] * 100 for result in results.values()]  # Convert accuracy to percentage\n",
        "\n",
        "# Set up the figure\n",
        "fig, ax = plt.subplots(1, 2, figsize=(14, 6))\n",
        "\n",
        "# Plot Loss\n",
        "ax[0].bar(model_names, losses, color='skyblue', edgecolor='black')\n",
        "ax[0].set_title('Model Loss Comparison')\n",
        "ax[0].set_ylabel('Loss')\n",
        "ax[0].set_xlabel('Model')\n",
        "ax[0].grid(axis='y', linestyle='--', alpha=0.7)\n",
        "\n",
        "# Plot Accuracy\n",
        "ax[1].bar(model_names, accuracies, color='lightgreen', edgecolor='black')\n",
        "ax[1].set_title('Model Accuracy Comparison')\n",
        "ax[1].set_ylabel('Accuracy (%)')\n",
        "ax[1].set_xlabel('Model')\n",
        "ax[1].grid(axis='y', linestyle='--', alpha=0.7)\n",
        "\n",
        "# Adjust layout and show the plots\n",
        "plt.tight_layout()\n",
        "plt.show()\n"
      ]
    }
  ],
  "metadata": {
    "colab": {
      "provenance": [],
      "include_colab_link": true
    },
    "kernelspec": {
      "display_name": "Python 3",
      "name": "python3"
    },
    "language_info": {
      "codemirror_mode": {
        "name": "ipython",
        "version": 3
      },
      "file_extension": ".py",
      "mimetype": "text/x-python",
      "name": "python",
      "nbconvert_exporter": "python",
      "pygments_lexer": "ipython3",
      "version": "3.11.9"
    }
  },
  "nbformat": 4,
  "nbformat_minor": 0
}