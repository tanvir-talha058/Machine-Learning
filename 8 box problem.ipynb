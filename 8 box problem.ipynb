{
  "nbformat": 4,
  "nbformat_minor": 0,
  "metadata": {
    "colab": {
      "provenance": [],
      "authorship_tag": "ABX9TyPFs5XnnmiCzANe7nuRBYNn",
      "include_colab_link": true
    },
    "kernelspec": {
      "name": "python3",
      "display_name": "Python 3"
    },
    "language_info": {
      "name": "python"
    }
  },
  "cells": [
    {
      "cell_type": "markdown",
      "metadata": {
        "id": "view-in-github",
        "colab_type": "text"
      },
      "source": [
        "<a href=\"https://colab.research.google.com/github/tanvir-talha058/Machine-Learning/blob/main/8%20box%20problem.ipynb\" target=\"_parent\"><img src=\"https://colab.research.google.com/assets/colab-badge.svg\" alt=\"Open In Colab\"/></a>"
      ]
    },
    {
      "cell_type": "code",
      "execution_count": null,
      "metadata": {
        "colab": {
          "base_uri": "https://localhost:8080/"
        },
        "id": "LhyjSeZoyzVs",
        "outputId": "53b13eec-2218-42ac-b41e-b165dfbc9ed0"
      },
      "outputs": [
        {
          "output_type": "stream",
          "name": "stdout",
          "text": [
            "5 3 7 2 4 8 "
          ]
        }
      ],
      "source": [
        "graph= {\n",
        "\n",
        "    '5':['3','7'],\n",
        "    '3':['2','4'],\n",
        "    '7':['8'],\n",
        "    '2':[],\n",
        "    '4':['8'],\n",
        "    '8':[ ]\n",
        "\n",
        "}\n",
        "visited=[] #list for visited nodes\n",
        "queue=[]\n",
        "\n",
        "def bfs( visited, graph,node):\n",
        "  visited.append(node)\n",
        "  queue.append(node)\n",
        "\n",
        "  while queue:\n",
        "    m=queue.pop(0)\n",
        "    print(m, end=\" \")\n",
        "\n",
        "    for neighbour in graph[m]:\n",
        "      if neighbour not in visited:\n",
        "       visited.append(neighbour)\n",
        "       queue.append(neighbour)\n",
        "\n",
        "bfs(visited, graph,'5')\n"
      ]
    },
    {
      "cell_type": "code",
      "source": [
        "class solution:\n",
        "  def solve(self,board);\n",
        "       state_map={}\n",
        "      flatten= tuple([num for row in board for num in row])\n",
        "      state_map[flatten]=0\n",
        "\n",
        "      if flatten==(0,1,2,3,4,5,6,7,8):\n",
        "      return 0\n",
        "\n",
        "      return self.bfs(state_map)\n",
        "\n",
        "  def bfs(self,state_map):\n",
        "    depth =0\n",
        "\n",
        "    while True:\n",
        "      current_state=[ state for state in state_map if state_map[state]==depth]\n",
        "      if not current_state:\n",
        "        return -1\n",
        "\n",
        "\n",
        "      for state im current_states:\n",
        "        next_states=self.find_next(state)\n",
        "        for next_states= self.find_next(state)\n",
        "\n",
        "        for next_state in next states:\n",
        "          if next_state not in state_map:\n",
        "            state_map[next_state]=depth +1\n",
        "\n",
        "            if next_state == (0,1,2,3,4,5,6,7,8):\n",
        "              return depth +1\n",
        "      depth+=1\n",
        "\n",
        "  def find_next(self,state):\n",
        "\n",
        "    moves={\n",
        "        0: [1,3],\n",
        "        1: [0,2,4],\n",
        "        2: [1,5],\n",
        "        3: [0,4,6],\n",
        "        4: [1,3,5,7],\n",
        "        5: [2,4,8],\n",
        "        6: [3,7],\n",
        "        7: [4,6,8],\n",
        "        8: [5,7]\n",
        "    }\n",
        "\n",
        "    pos_0=state.index(0)\n",
        "    result=[]\n",
        "\n",
        "    for move in moves[pos_0]:\n",
        "      new_state=list(state)\n",
        "      new_state[pos_0],new_state[move]=new_state[move],new_state[pos_0]\n",
        "\n",
        "      result.append(tuple(new_state))\n",
        "    return result\n",
        "\n",
        "\n",
        "ob= Solution()\n",
        "\n",
        "matrix=[\n",
        "    [3,1,2],\n",
        "    [4,7,5],\n",
        "    [6,8,0],\n",
        "]\n",
        "\n",
        "print(ob.solve(matrix))\n",
        "\n",
        "\n"
      ],
      "metadata": {
        "colab": {
          "base_uri": "https://localhost:8080/",
          "height": 110
        },
        "id": "0BKrMKv_4okL",
        "outputId": "074a924f-c56b-43bc-fd26-c11ed9c01aa6"
      },
      "execution_count": null,
      "outputs": [
        {
          "output_type": "error",
          "ename": "IndentationError",
          "evalue": "unindent does not match any outer indentation level (<tokenize>, line 4)",
          "traceback": [
            "\u001b[0;36m  File \u001b[0;32m\"<tokenize>\"\u001b[0;36m, line \u001b[0;32m4\u001b[0m\n\u001b[0;31m    flatten= tuple([num for row in board for num in row])\u001b[0m\n\u001b[0m    ^\u001b[0m\n\u001b[0;31mIndentationError\u001b[0m\u001b[0;31m:\u001b[0m unindent does not match any outer indentation level\n"
          ]
        }
      ]
    }
  ]
}