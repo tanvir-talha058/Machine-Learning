{
  "nbformat": 4,
  "nbformat_minor": 0,
  "metadata": {
    "colab": {
      "provenance": [],
      "gpuType": "T4",
      "authorship_tag": "ABX9TyPfVvWA+VfQ21Yxu/dJg1fD",
      "include_colab_link": true
    },
    "kernelspec": {
      "name": "python3",
      "display_name": "Python 3"
    },
    "language_info": {
      "name": "python"
    },
    "accelerator": "GPU",
    "widgets": {
      "application/vnd.jupyter.widget-state+json": {
        "557bfe9256024fa09c7703708edab799": {
          "model_module": "@jupyter-widgets/controls",
          "model_name": "HBoxModel",
          "model_module_version": "1.5.0",
          "state": {
            "_dom_classes": [],
            "_model_module": "@jupyter-widgets/controls",
            "_model_module_version": "1.5.0",
            "_model_name": "HBoxModel",
            "_view_count": null,
            "_view_module": "@jupyter-widgets/controls",
            "_view_module_version": "1.5.0",
            "_view_name": "HBoxView",
            "box_style": "",
            "children": [
              "IPY_MODEL_15077fd6383b4eefab1416483864e2f2",
              "IPY_MODEL_13548e0e394a40fab4a8c0b1ccbb99ae",
              "IPY_MODEL_0b2a2d5310d441dcb9d8f2236b81f7ae"
            ],
            "layout": "IPY_MODEL_5ee93084b42a49cdba7c71ba31763aae"
          }
        },
        "15077fd6383b4eefab1416483864e2f2": {
          "model_module": "@jupyter-widgets/controls",
          "model_name": "HTMLModel",
          "model_module_version": "1.5.0",
          "state": {
            "_dom_classes": [],
            "_model_module": "@jupyter-widgets/controls",
            "_model_module_version": "1.5.0",
            "_model_name": "HTMLModel",
            "_view_count": null,
            "_view_module": "@jupyter-widgets/controls",
            "_view_module_version": "1.5.0",
            "_view_name": "HTMLView",
            "description": "",
            "description_tooltip": null,
            "layout": "IPY_MODEL_87a6a652cc6549eb9e10f0fafc7f1856",
            "placeholder": "​",
            "style": "IPY_MODEL_2a4f9bfad2b74c9cb85b6811e4024b0d",
            "value": "config.json: 100%"
          }
        },
        "13548e0e394a40fab4a8c0b1ccbb99ae": {
          "model_module": "@jupyter-widgets/controls",
          "model_name": "FloatProgressModel",
          "model_module_version": "1.5.0",
          "state": {
            "_dom_classes": [],
            "_model_module": "@jupyter-widgets/controls",
            "_model_module_version": "1.5.0",
            "_model_name": "FloatProgressModel",
            "_view_count": null,
            "_view_module": "@jupyter-widgets/controls",
            "_view_module_version": "1.5.0",
            "_view_name": "ProgressView",
            "bar_style": "success",
            "description": "",
            "description_tooltip": null,
            "layout": "IPY_MODEL_65caf6916ebb46368a1410c766f08795",
            "max": 491,
            "min": 0,
            "orientation": "horizontal",
            "style": "IPY_MODEL_ecd8111fe69b4a1385cf48fe85febd99",
            "value": 491
          }
        },
        "0b2a2d5310d441dcb9d8f2236b81f7ae": {
          "model_module": "@jupyter-widgets/controls",
          "model_name": "HTMLModel",
          "model_module_version": "1.5.0",
          "state": {
            "_dom_classes": [],
            "_model_module": "@jupyter-widgets/controls",
            "_model_module_version": "1.5.0",
            "_model_name": "HTMLModel",
            "_view_count": null,
            "_view_module": "@jupyter-widgets/controls",
            "_view_module_version": "1.5.0",
            "_view_name": "HTMLView",
            "description": "",
            "description_tooltip": null,
            "layout": "IPY_MODEL_38446de04f3b46c1a09b49e28073970b",
            "placeholder": "​",
            "style": "IPY_MODEL_2ae373f91c6e4582829c8ba84399af01",
            "value": " 491/491 [00:00&lt;00:00, 51.0kB/s]"
          }
        },
        "5ee93084b42a49cdba7c71ba31763aae": {
          "model_module": "@jupyter-widgets/base",
          "model_name": "LayoutModel",
          "model_module_version": "1.2.0",
          "state": {
            "_model_module": "@jupyter-widgets/base",
            "_model_module_version": "1.2.0",
            "_model_name": "LayoutModel",
            "_view_count": null,
            "_view_module": "@jupyter-widgets/base",
            "_view_module_version": "1.2.0",
            "_view_name": "LayoutView",
            "align_content": null,
            "align_items": null,
            "align_self": null,
            "border": null,
            "bottom": null,
            "display": null,
            "flex": null,
            "flex_flow": null,
            "grid_area": null,
            "grid_auto_columns": null,
            "grid_auto_flow": null,
            "grid_auto_rows": null,
            "grid_column": null,
            "grid_gap": null,
            "grid_row": null,
            "grid_template_areas": null,
            "grid_template_columns": null,
            "grid_template_rows": null,
            "height": null,
            "justify_content": null,
            "justify_items": null,
            "left": null,
            "margin": null,
            "max_height": null,
            "max_width": null,
            "min_height": null,
            "min_width": null,
            "object_fit": null,
            "object_position": null,
            "order": null,
            "overflow": null,
            "overflow_x": null,
            "overflow_y": null,
            "padding": null,
            "right": null,
            "top": null,
            "visibility": null,
            "width": null
          }
        },
        "87a6a652cc6549eb9e10f0fafc7f1856": {
          "model_module": "@jupyter-widgets/base",
          "model_name": "LayoutModel",
          "model_module_version": "1.2.0",
          "state": {
            "_model_module": "@jupyter-widgets/base",
            "_model_module_version": "1.2.0",
            "_model_name": "LayoutModel",
            "_view_count": null,
            "_view_module": "@jupyter-widgets/base",
            "_view_module_version": "1.2.0",
            "_view_name": "LayoutView",
            "align_content": null,
            "align_items": null,
            "align_self": null,
            "border": null,
            "bottom": null,
            "display": null,
            "flex": null,
            "flex_flow": null,
            "grid_area": null,
            "grid_auto_columns": null,
            "grid_auto_flow": null,
            "grid_auto_rows": null,
            "grid_column": null,
            "grid_gap": null,
            "grid_row": null,
            "grid_template_areas": null,
            "grid_template_columns": null,
            "grid_template_rows": null,
            "height": null,
            "justify_content": null,
            "justify_items": null,
            "left": null,
            "margin": null,
            "max_height": null,
            "max_width": null,
            "min_height": null,
            "min_width": null,
            "object_fit": null,
            "object_position": null,
            "order": null,
            "overflow": null,
            "overflow_x": null,
            "overflow_y": null,
            "padding": null,
            "right": null,
            "top": null,
            "visibility": null,
            "width": null
          }
        },
        "2a4f9bfad2b74c9cb85b6811e4024b0d": {
          "model_module": "@jupyter-widgets/controls",
          "model_name": "DescriptionStyleModel",
          "model_module_version": "1.5.0",
          "state": {
            "_model_module": "@jupyter-widgets/controls",
            "_model_module_version": "1.5.0",
            "_model_name": "DescriptionStyleModel",
            "_view_count": null,
            "_view_module": "@jupyter-widgets/base",
            "_view_module_version": "1.2.0",
            "_view_name": "StyleView",
            "description_width": ""
          }
        },
        "65caf6916ebb46368a1410c766f08795": {
          "model_module": "@jupyter-widgets/base",
          "model_name": "LayoutModel",
          "model_module_version": "1.2.0",
          "state": {
            "_model_module": "@jupyter-widgets/base",
            "_model_module_version": "1.2.0",
            "_model_name": "LayoutModel",
            "_view_count": null,
            "_view_module": "@jupyter-widgets/base",
            "_view_module_version": "1.2.0",
            "_view_name": "LayoutView",
            "align_content": null,
            "align_items": null,
            "align_self": null,
            "border": null,
            "bottom": null,
            "display": null,
            "flex": null,
            "flex_flow": null,
            "grid_area": null,
            "grid_auto_columns": null,
            "grid_auto_flow": null,
            "grid_auto_rows": null,
            "grid_column": null,
            "grid_gap": null,
            "grid_row": null,
            "grid_template_areas": null,
            "grid_template_columns": null,
            "grid_template_rows": null,
            "height": null,
            "justify_content": null,
            "justify_items": null,
            "left": null,
            "margin": null,
            "max_height": null,
            "max_width": null,
            "min_height": null,
            "min_width": null,
            "object_fit": null,
            "object_position": null,
            "order": null,
            "overflow": null,
            "overflow_x": null,
            "overflow_y": null,
            "padding": null,
            "right": null,
            "top": null,
            "visibility": null,
            "width": null
          }
        },
        "ecd8111fe69b4a1385cf48fe85febd99": {
          "model_module": "@jupyter-widgets/controls",
          "model_name": "ProgressStyleModel",
          "model_module_version": "1.5.0",
          "state": {
            "_model_module": "@jupyter-widgets/controls",
            "_model_module_version": "1.5.0",
            "_model_name": "ProgressStyleModel",
            "_view_count": null,
            "_view_module": "@jupyter-widgets/base",
            "_view_module_version": "1.2.0",
            "_view_name": "StyleView",
            "bar_color": null,
            "description_width": ""
          }
        },
        "38446de04f3b46c1a09b49e28073970b": {
          "model_module": "@jupyter-widgets/base",
          "model_name": "LayoutModel",
          "model_module_version": "1.2.0",
          "state": {
            "_model_module": "@jupyter-widgets/base",
            "_model_module_version": "1.2.0",
            "_model_name": "LayoutModel",
            "_view_count": null,
            "_view_module": "@jupyter-widgets/base",
            "_view_module_version": "1.2.0",
            "_view_name": "LayoutView",
            "align_content": null,
            "align_items": null,
            "align_self": null,
            "border": null,
            "bottom": null,
            "display": null,
            "flex": null,
            "flex_flow": null,
            "grid_area": null,
            "grid_auto_columns": null,
            "grid_auto_flow": null,
            "grid_auto_rows": null,
            "grid_column": null,
            "grid_gap": null,
            "grid_row": null,
            "grid_template_areas": null,
            "grid_template_columns": null,
            "grid_template_rows": null,
            "height": null,
            "justify_content": null,
            "justify_items": null,
            "left": null,
            "margin": null,
            "max_height": null,
            "max_width": null,
            "min_height": null,
            "min_width": null,
            "object_fit": null,
            "object_position": null,
            "order": null,
            "overflow": null,
            "overflow_x": null,
            "overflow_y": null,
            "padding": null,
            "right": null,
            "top": null,
            "visibility": null,
            "width": null
          }
        },
        "2ae373f91c6e4582829c8ba84399af01": {
          "model_module": "@jupyter-widgets/controls",
          "model_name": "DescriptionStyleModel",
          "model_module_version": "1.5.0",
          "state": {
            "_model_module": "@jupyter-widgets/controls",
            "_model_module_version": "1.5.0",
            "_model_name": "DescriptionStyleModel",
            "_view_count": null,
            "_view_module": "@jupyter-widgets/base",
            "_view_module_version": "1.2.0",
            "_view_name": "StyleView",
            "description_width": ""
          }
        },
        "9ab6c10fb06f44a287f6dd69868c86d7": {
          "model_module": "@jupyter-widgets/controls",
          "model_name": "HBoxModel",
          "model_module_version": "1.5.0",
          "state": {
            "_dom_classes": [],
            "_model_module": "@jupyter-widgets/controls",
            "_model_module_version": "1.5.0",
            "_model_name": "HBoxModel",
            "_view_count": null,
            "_view_module": "@jupyter-widgets/controls",
            "_view_module_version": "1.5.0",
            "_view_name": "HBoxView",
            "box_style": "",
            "children": [
              "IPY_MODEL_ab32a7a8ce95421aba29438f0665d8d6",
              "IPY_MODEL_9c17d3ca00724637a05123b691c0150a",
              "IPY_MODEL_1b25792d7113403db381468b8d0527d5"
            ],
            "layout": "IPY_MODEL_42cfae50d9ce4854a2447ace6457a91b"
          }
        },
        "ab32a7a8ce95421aba29438f0665d8d6": {
          "model_module": "@jupyter-widgets/controls",
          "model_name": "HTMLModel",
          "model_module_version": "1.5.0",
          "state": {
            "_dom_classes": [],
            "_model_module": "@jupyter-widgets/controls",
            "_model_module_version": "1.5.0",
            "_model_name": "HTMLModel",
            "_view_count": null,
            "_view_module": "@jupyter-widgets/controls",
            "_view_module_version": "1.5.0",
            "_view_name": "HTMLView",
            "description": "",
            "description_tooltip": null,
            "layout": "IPY_MODEL_ae04f6f103a947228a4dd1c639462dde",
            "placeholder": "​",
            "style": "IPY_MODEL_a1234c446cca40328d9241aceff0661b",
            "value": "vocab.txt: "
          }
        },
        "9c17d3ca00724637a05123b691c0150a": {
          "model_module": "@jupyter-widgets/controls",
          "model_name": "FloatProgressModel",
          "model_module_version": "1.5.0",
          "state": {
            "_dom_classes": [],
            "_model_module": "@jupyter-widgets/controls",
            "_model_module_version": "1.5.0",
            "_model_name": "FloatProgressModel",
            "_view_count": null,
            "_view_module": "@jupyter-widgets/controls",
            "_view_module_version": "1.5.0",
            "_view_name": "ProgressView",
            "bar_style": "success",
            "description": "",
            "description_tooltip": null,
            "layout": "IPY_MODEL_041d509352f34930955081221e611e61",
            "max": 1,
            "min": 0,
            "orientation": "horizontal",
            "style": "IPY_MODEL_a18a719c1faa4ad88c59f2229feba30a",
            "value": 1
          }
        },
        "1b25792d7113403db381468b8d0527d5": {
          "model_module": "@jupyter-widgets/controls",
          "model_name": "HTMLModel",
          "model_module_version": "1.5.0",
          "state": {
            "_dom_classes": [],
            "_model_module": "@jupyter-widgets/controls",
            "_model_module_version": "1.5.0",
            "_model_name": "HTMLModel",
            "_view_count": null,
            "_view_module": "@jupyter-widgets/controls",
            "_view_module_version": "1.5.0",
            "_view_name": "HTMLView",
            "description": "",
            "description_tooltip": null,
            "layout": "IPY_MODEL_7681500a3cf44a3487e2fddcb4a1bdf4",
            "placeholder": "​",
            "style": "IPY_MODEL_9cbd6faa6c304b408e01944c873fb391",
            "value": " 2.24M/? [00:00&lt;00:00, 55.6MB/s]"
          }
        },
        "42cfae50d9ce4854a2447ace6457a91b": {
          "model_module": "@jupyter-widgets/base",
          "model_name": "LayoutModel",
          "model_module_version": "1.2.0",
          "state": {
            "_model_module": "@jupyter-widgets/base",
            "_model_module_version": "1.2.0",
            "_model_name": "LayoutModel",
            "_view_count": null,
            "_view_module": "@jupyter-widgets/base",
            "_view_module_version": "1.2.0",
            "_view_name": "LayoutView",
            "align_content": null,
            "align_items": null,
            "align_self": null,
            "border": null,
            "bottom": null,
            "display": null,
            "flex": null,
            "flex_flow": null,
            "grid_area": null,
            "grid_auto_columns": null,
            "grid_auto_flow": null,
            "grid_auto_rows": null,
            "grid_column": null,
            "grid_gap": null,
            "grid_row": null,
            "grid_template_areas": null,
            "grid_template_columns": null,
            "grid_template_rows": null,
            "height": null,
            "justify_content": null,
            "justify_items": null,
            "left": null,
            "margin": null,
            "max_height": null,
            "max_width": null,
            "min_height": null,
            "min_width": null,
            "object_fit": null,
            "object_position": null,
            "order": null,
            "overflow": null,
            "overflow_x": null,
            "overflow_y": null,
            "padding": null,
            "right": null,
            "top": null,
            "visibility": null,
            "width": null
          }
        },
        "ae04f6f103a947228a4dd1c639462dde": {
          "model_module": "@jupyter-widgets/base",
          "model_name": "LayoutModel",
          "model_module_version": "1.2.0",
          "state": {
            "_model_module": "@jupyter-widgets/base",
            "_model_module_version": "1.2.0",
            "_model_name": "LayoutModel",
            "_view_count": null,
            "_view_module": "@jupyter-widgets/base",
            "_view_module_version": "1.2.0",
            "_view_name": "LayoutView",
            "align_content": null,
            "align_items": null,
            "align_self": null,
            "border": null,
            "bottom": null,
            "display": null,
            "flex": null,
            "flex_flow": null,
            "grid_area": null,
            "grid_auto_columns": null,
            "grid_auto_flow": null,
            "grid_auto_rows": null,
            "grid_column": null,
            "grid_gap": null,
            "grid_row": null,
            "grid_template_areas": null,
            "grid_template_columns": null,
            "grid_template_rows": null,
            "height": null,
            "justify_content": null,
            "justify_items": null,
            "left": null,
            "margin": null,
            "max_height": null,
            "max_width": null,
            "min_height": null,
            "min_width": null,
            "object_fit": null,
            "object_position": null,
            "order": null,
            "overflow": null,
            "overflow_x": null,
            "overflow_y": null,
            "padding": null,
            "right": null,
            "top": null,
            "visibility": null,
            "width": null
          }
        },
        "a1234c446cca40328d9241aceff0661b": {
          "model_module": "@jupyter-widgets/controls",
          "model_name": "DescriptionStyleModel",
          "model_module_version": "1.5.0",
          "state": {
            "_model_module": "@jupyter-widgets/controls",
            "_model_module_version": "1.5.0",
            "_model_name": "DescriptionStyleModel",
            "_view_count": null,
            "_view_module": "@jupyter-widgets/base",
            "_view_module_version": "1.2.0",
            "_view_name": "StyleView",
            "description_width": ""
          }
        },
        "041d509352f34930955081221e611e61": {
          "model_module": "@jupyter-widgets/base",
          "model_name": "LayoutModel",
          "model_module_version": "1.2.0",
          "state": {
            "_model_module": "@jupyter-widgets/base",
            "_model_module_version": "1.2.0",
            "_model_name": "LayoutModel",
            "_view_count": null,
            "_view_module": "@jupyter-widgets/base",
            "_view_module_version": "1.2.0",
            "_view_name": "LayoutView",
            "align_content": null,
            "align_items": null,
            "align_self": null,
            "border": null,
            "bottom": null,
            "display": null,
            "flex": null,
            "flex_flow": null,
            "grid_area": null,
            "grid_auto_columns": null,
            "grid_auto_flow": null,
            "grid_auto_rows": null,
            "grid_column": null,
            "grid_gap": null,
            "grid_row": null,
            "grid_template_areas": null,
            "grid_template_columns": null,
            "grid_template_rows": null,
            "height": null,
            "justify_content": null,
            "justify_items": null,
            "left": null,
            "margin": null,
            "max_height": null,
            "max_width": null,
            "min_height": null,
            "min_width": null,
            "object_fit": null,
            "object_position": null,
            "order": null,
            "overflow": null,
            "overflow_x": null,
            "overflow_y": null,
            "padding": null,
            "right": null,
            "top": null,
            "visibility": null,
            "width": "20px"
          }
        },
        "a18a719c1faa4ad88c59f2229feba30a": {
          "model_module": "@jupyter-widgets/controls",
          "model_name": "ProgressStyleModel",
          "model_module_version": "1.5.0",
          "state": {
            "_model_module": "@jupyter-widgets/controls",
            "_model_module_version": "1.5.0",
            "_model_name": "ProgressStyleModel",
            "_view_count": null,
            "_view_module": "@jupyter-widgets/base",
            "_view_module_version": "1.2.0",
            "_view_name": "StyleView",
            "bar_color": null,
            "description_width": ""
          }
        },
        "7681500a3cf44a3487e2fddcb4a1bdf4": {
          "model_module": "@jupyter-widgets/base",
          "model_name": "LayoutModel",
          "model_module_version": "1.2.0",
          "state": {
            "_model_module": "@jupyter-widgets/base",
            "_model_module_version": "1.2.0",
            "_model_name": "LayoutModel",
            "_view_count": null,
            "_view_module": "@jupyter-widgets/base",
            "_view_module_version": "1.2.0",
            "_view_name": "LayoutView",
            "align_content": null,
            "align_items": null,
            "align_self": null,
            "border": null,
            "bottom": null,
            "display": null,
            "flex": null,
            "flex_flow": null,
            "grid_area": null,
            "grid_auto_columns": null,
            "grid_auto_flow": null,
            "grid_auto_rows": null,
            "grid_column": null,
            "grid_gap": null,
            "grid_row": null,
            "grid_template_areas": null,
            "grid_template_columns": null,
            "grid_template_rows": null,
            "height": null,
            "justify_content": null,
            "justify_items": null,
            "left": null,
            "margin": null,
            "max_height": null,
            "max_width": null,
            "min_height": null,
            "min_width": null,
            "object_fit": null,
            "object_position": null,
            "order": null,
            "overflow": null,
            "overflow_x": null,
            "overflow_y": null,
            "padding": null,
            "right": null,
            "top": null,
            "visibility": null,
            "width": null
          }
        },
        "9cbd6faa6c304b408e01944c873fb391": {
          "model_module": "@jupyter-widgets/controls",
          "model_name": "DescriptionStyleModel",
          "model_module_version": "1.5.0",
          "state": {
            "_model_module": "@jupyter-widgets/controls",
            "_model_module_version": "1.5.0",
            "_model_name": "DescriptionStyleModel",
            "_view_count": null,
            "_view_module": "@jupyter-widgets/base",
            "_view_module_version": "1.2.0",
            "_view_name": "StyleView",
            "description_width": ""
          }
        },
        "8802e75862a943d19607cdaa5778dea9": {
          "model_module": "@jupyter-widgets/controls",
          "model_name": "HBoxModel",
          "model_module_version": "1.5.0",
          "state": {
            "_dom_classes": [],
            "_model_module": "@jupyter-widgets/controls",
            "_model_module_version": "1.5.0",
            "_model_name": "HBoxModel",
            "_view_count": null,
            "_view_module": "@jupyter-widgets/controls",
            "_view_module_version": "1.5.0",
            "_view_name": "HBoxView",
            "box_style": "",
            "children": [
              "IPY_MODEL_9e41521cdd7c4c07a039310423f492b8",
              "IPY_MODEL_ac93775325d845639f5635942429d704",
              "IPY_MODEL_ce6772f7324e4dc5a52b38d91f9195c9"
            ],
            "layout": "IPY_MODEL_0e31d88e77814864b14239a250251e89"
          }
        },
        "9e41521cdd7c4c07a039310423f492b8": {
          "model_module": "@jupyter-widgets/controls",
          "model_name": "HTMLModel",
          "model_module_version": "1.5.0",
          "state": {
            "_dom_classes": [],
            "_model_module": "@jupyter-widgets/controls",
            "_model_module_version": "1.5.0",
            "_model_name": "HTMLModel",
            "_view_count": null,
            "_view_module": "@jupyter-widgets/controls",
            "_view_module_version": "1.5.0",
            "_view_name": "HTMLView",
            "description": "",
            "description_tooltip": null,
            "layout": "IPY_MODEL_4139048caab44df4adf4d38748acc6b8",
            "placeholder": "​",
            "style": "IPY_MODEL_248108744d624f4dbe2c97004f052d7b",
            "value": "Map: 100%"
          }
        },
        "ac93775325d845639f5635942429d704": {
          "model_module": "@jupyter-widgets/controls",
          "model_name": "FloatProgressModel",
          "model_module_version": "1.5.0",
          "state": {
            "_dom_classes": [],
            "_model_module": "@jupyter-widgets/controls",
            "_model_module_version": "1.5.0",
            "_model_name": "FloatProgressModel",
            "_view_count": null,
            "_view_module": "@jupyter-widgets/controls",
            "_view_module_version": "1.5.0",
            "_view_name": "ProgressView",
            "bar_style": "success",
            "description": "",
            "description_tooltip": null,
            "layout": "IPY_MODEL_bff6bb76c8c042e39b01632cdcb522dd",
            "max": 1412,
            "min": 0,
            "orientation": "horizontal",
            "style": "IPY_MODEL_edd3fc2e82984c3695aa6bcbcd2badca",
            "value": 1412
          }
        },
        "ce6772f7324e4dc5a52b38d91f9195c9": {
          "model_module": "@jupyter-widgets/controls",
          "model_name": "HTMLModel",
          "model_module_version": "1.5.0",
          "state": {
            "_dom_classes": [],
            "_model_module": "@jupyter-widgets/controls",
            "_model_module_version": "1.5.0",
            "_model_name": "HTMLModel",
            "_view_count": null,
            "_view_module": "@jupyter-widgets/controls",
            "_view_module_version": "1.5.0",
            "_view_name": "HTMLView",
            "description": "",
            "description_tooltip": null,
            "layout": "IPY_MODEL_357e5cd9749a4a5586bbf20efd585486",
            "placeholder": "​",
            "style": "IPY_MODEL_65e7eb33db9144ffa3229a0acfc6f7a5",
            "value": " 1412/1412 [00:00&lt;00:00, 15593.73 examples/s]"
          }
        },
        "0e31d88e77814864b14239a250251e89": {
          "model_module": "@jupyter-widgets/base",
          "model_name": "LayoutModel",
          "model_module_version": "1.2.0",
          "state": {
            "_model_module": "@jupyter-widgets/base",
            "_model_module_version": "1.2.0",
            "_model_name": "LayoutModel",
            "_view_count": null,
            "_view_module": "@jupyter-widgets/base",
            "_view_module_version": "1.2.0",
            "_view_name": "LayoutView",
            "align_content": null,
            "align_items": null,
            "align_self": null,
            "border": null,
            "bottom": null,
            "display": null,
            "flex": null,
            "flex_flow": null,
            "grid_area": null,
            "grid_auto_columns": null,
            "grid_auto_flow": null,
            "grid_auto_rows": null,
            "grid_column": null,
            "grid_gap": null,
            "grid_row": null,
            "grid_template_areas": null,
            "grid_template_columns": null,
            "grid_template_rows": null,
            "height": null,
            "justify_content": null,
            "justify_items": null,
            "left": null,
            "margin": null,
            "max_height": null,
            "max_width": null,
            "min_height": null,
            "min_width": null,
            "object_fit": null,
            "object_position": null,
            "order": null,
            "overflow": null,
            "overflow_x": null,
            "overflow_y": null,
            "padding": null,
            "right": null,
            "top": null,
            "visibility": null,
            "width": null
          }
        },
        "4139048caab44df4adf4d38748acc6b8": {
          "model_module": "@jupyter-widgets/base",
          "model_name": "LayoutModel",
          "model_module_version": "1.2.0",
          "state": {
            "_model_module": "@jupyter-widgets/base",
            "_model_module_version": "1.2.0",
            "_model_name": "LayoutModel",
            "_view_count": null,
            "_view_module": "@jupyter-widgets/base",
            "_view_module_version": "1.2.0",
            "_view_name": "LayoutView",
            "align_content": null,
            "align_items": null,
            "align_self": null,
            "border": null,
            "bottom": null,
            "display": null,
            "flex": null,
            "flex_flow": null,
            "grid_area": null,
            "grid_auto_columns": null,
            "grid_auto_flow": null,
            "grid_auto_rows": null,
            "grid_column": null,
            "grid_gap": null,
            "grid_row": null,
            "grid_template_areas": null,
            "grid_template_columns": null,
            "grid_template_rows": null,
            "height": null,
            "justify_content": null,
            "justify_items": null,
            "left": null,
            "margin": null,
            "max_height": null,
            "max_width": null,
            "min_height": null,
            "min_width": null,
            "object_fit": null,
            "object_position": null,
            "order": null,
            "overflow": null,
            "overflow_x": null,
            "overflow_y": null,
            "padding": null,
            "right": null,
            "top": null,
            "visibility": null,
            "width": null
          }
        },
        "248108744d624f4dbe2c97004f052d7b": {
          "model_module": "@jupyter-widgets/controls",
          "model_name": "DescriptionStyleModel",
          "model_module_version": "1.5.0",
          "state": {
            "_model_module": "@jupyter-widgets/controls",
            "_model_module_version": "1.5.0",
            "_model_name": "DescriptionStyleModel",
            "_view_count": null,
            "_view_module": "@jupyter-widgets/base",
            "_view_module_version": "1.2.0",
            "_view_name": "StyleView",
            "description_width": ""
          }
        },
        "bff6bb76c8c042e39b01632cdcb522dd": {
          "model_module": "@jupyter-widgets/base",
          "model_name": "LayoutModel",
          "model_module_version": "1.2.0",
          "state": {
            "_model_module": "@jupyter-widgets/base",
            "_model_module_version": "1.2.0",
            "_model_name": "LayoutModel",
            "_view_count": null,
            "_view_module": "@jupyter-widgets/base",
            "_view_module_version": "1.2.0",
            "_view_name": "LayoutView",
            "align_content": null,
            "align_items": null,
            "align_self": null,
            "border": null,
            "bottom": null,
            "display": null,
            "flex": null,
            "flex_flow": null,
            "grid_area": null,
            "grid_auto_columns": null,
            "grid_auto_flow": null,
            "grid_auto_rows": null,
            "grid_column": null,
            "grid_gap": null,
            "grid_row": null,
            "grid_template_areas": null,
            "grid_template_columns": null,
            "grid_template_rows": null,
            "height": null,
            "justify_content": null,
            "justify_items": null,
            "left": null,
            "margin": null,
            "max_height": null,
            "max_width": null,
            "min_height": null,
            "min_width": null,
            "object_fit": null,
            "object_position": null,
            "order": null,
            "overflow": null,
            "overflow_x": null,
            "overflow_y": null,
            "padding": null,
            "right": null,
            "top": null,
            "visibility": null,
            "width": null
          }
        },
        "edd3fc2e82984c3695aa6bcbcd2badca": {
          "model_module": "@jupyter-widgets/controls",
          "model_name": "ProgressStyleModel",
          "model_module_version": "1.5.0",
          "state": {
            "_model_module": "@jupyter-widgets/controls",
            "_model_module_version": "1.5.0",
            "_model_name": "ProgressStyleModel",
            "_view_count": null,
            "_view_module": "@jupyter-widgets/base",
            "_view_module_version": "1.2.0",
            "_view_name": "StyleView",
            "bar_color": null,
            "description_width": ""
          }
        },
        "357e5cd9749a4a5586bbf20efd585486": {
          "model_module": "@jupyter-widgets/base",
          "model_name": "LayoutModel",
          "model_module_version": "1.2.0",
          "state": {
            "_model_module": "@jupyter-widgets/base",
            "_model_module_version": "1.2.0",
            "_model_name": "LayoutModel",
            "_view_count": null,
            "_view_module": "@jupyter-widgets/base",
            "_view_module_version": "1.2.0",
            "_view_name": "LayoutView",
            "align_content": null,
            "align_items": null,
            "align_self": null,
            "border": null,
            "bottom": null,
            "display": null,
            "flex": null,
            "flex_flow": null,
            "grid_area": null,
            "grid_auto_columns": null,
            "grid_auto_flow": null,
            "grid_auto_rows": null,
            "grid_column": null,
            "grid_gap": null,
            "grid_row": null,
            "grid_template_areas": null,
            "grid_template_columns": null,
            "grid_template_rows": null,
            "height": null,
            "justify_content": null,
            "justify_items": null,
            "left": null,
            "margin": null,
            "max_height": null,
            "max_width": null,
            "min_height": null,
            "min_width": null,
            "object_fit": null,
            "object_position": null,
            "order": null,
            "overflow": null,
            "overflow_x": null,
            "overflow_y": null,
            "padding": null,
            "right": null,
            "top": null,
            "visibility": null,
            "width": null
          }
        },
        "65e7eb33db9144ffa3229a0acfc6f7a5": {
          "model_module": "@jupyter-widgets/controls",
          "model_name": "DescriptionStyleModel",
          "model_module_version": "1.5.0",
          "state": {
            "_model_module": "@jupyter-widgets/controls",
            "_model_module_version": "1.5.0",
            "_model_name": "DescriptionStyleModel",
            "_view_count": null,
            "_view_module": "@jupyter-widgets/base",
            "_view_module_version": "1.2.0",
            "_view_name": "StyleView",
            "description_width": ""
          }
        },
        "b17a5334f8ef4ee593369d4533abe759": {
          "model_module": "@jupyter-widgets/controls",
          "model_name": "HBoxModel",
          "model_module_version": "1.5.0",
          "state": {
            "_dom_classes": [],
            "_model_module": "@jupyter-widgets/controls",
            "_model_module_version": "1.5.0",
            "_model_name": "HBoxModel",
            "_view_count": null,
            "_view_module": "@jupyter-widgets/controls",
            "_view_module_version": "1.5.0",
            "_view_name": "HBoxView",
            "box_style": "",
            "children": [
              "IPY_MODEL_4006332348104131bc7e735a00fb9d87",
              "IPY_MODEL_c44c3279d7f94d57bf61b8a894bc4933",
              "IPY_MODEL_594a99da30884bcc82ccbc9e660ed086"
            ],
            "layout": "IPY_MODEL_fe5169689dff4c418152a70446e1ea7d"
          }
        },
        "4006332348104131bc7e735a00fb9d87": {
          "model_module": "@jupyter-widgets/controls",
          "model_name": "HTMLModel",
          "model_module_version": "1.5.0",
          "state": {
            "_dom_classes": [],
            "_model_module": "@jupyter-widgets/controls",
            "_model_module_version": "1.5.0",
            "_model_name": "HTMLModel",
            "_view_count": null,
            "_view_module": "@jupyter-widgets/controls",
            "_view_module_version": "1.5.0",
            "_view_name": "HTMLView",
            "description": "",
            "description_tooltip": null,
            "layout": "IPY_MODEL_6405b093d9224ef8be9a4005ff9369e2",
            "placeholder": "​",
            "style": "IPY_MODEL_42213d9f7b1c4c1880625624f805bbb6",
            "value": "Map: 100%"
          }
        },
        "c44c3279d7f94d57bf61b8a894bc4933": {
          "model_module": "@jupyter-widgets/controls",
          "model_name": "FloatProgressModel",
          "model_module_version": "1.5.0",
          "state": {
            "_dom_classes": [],
            "_model_module": "@jupyter-widgets/controls",
            "_model_module_version": "1.5.0",
            "_model_name": "FloatProgressModel",
            "_view_count": null,
            "_view_module": "@jupyter-widgets/controls",
            "_view_module_version": "1.5.0",
            "_view_name": "ProgressView",
            "bar_style": "success",
            "description": "",
            "description_tooltip": null,
            "layout": "IPY_MODEL_036fb3231ed34f8cb3a5a59a1a61a21c",
            "max": 353,
            "min": 0,
            "orientation": "horizontal",
            "style": "IPY_MODEL_66aa9a25e4e6448ba8aca44da6033b99",
            "value": 353
          }
        },
        "594a99da30884bcc82ccbc9e660ed086": {
          "model_module": "@jupyter-widgets/controls",
          "model_name": "HTMLModel",
          "model_module_version": "1.5.0",
          "state": {
            "_dom_classes": [],
            "_model_module": "@jupyter-widgets/controls",
            "_model_module_version": "1.5.0",
            "_model_name": "HTMLModel",
            "_view_count": null,
            "_view_module": "@jupyter-widgets/controls",
            "_view_module_version": "1.5.0",
            "_view_name": "HTMLView",
            "description": "",
            "description_tooltip": null,
            "layout": "IPY_MODEL_5e222b993a48461fa72ecf7085b8f7fe",
            "placeholder": "​",
            "style": "IPY_MODEL_e0d20109ae80457e88bc31a5e29a44da",
            "value": " 353/353 [00:00&lt;00:00, 9191.58 examples/s]"
          }
        },
        "fe5169689dff4c418152a70446e1ea7d": {
          "model_module": "@jupyter-widgets/base",
          "model_name": "LayoutModel",
          "model_module_version": "1.2.0",
          "state": {
            "_model_module": "@jupyter-widgets/base",
            "_model_module_version": "1.2.0",
            "_model_name": "LayoutModel",
            "_view_count": null,
            "_view_module": "@jupyter-widgets/base",
            "_view_module_version": "1.2.0",
            "_view_name": "LayoutView",
            "align_content": null,
            "align_items": null,
            "align_self": null,
            "border": null,
            "bottom": null,
            "display": null,
            "flex": null,
            "flex_flow": null,
            "grid_area": null,
            "grid_auto_columns": null,
            "grid_auto_flow": null,
            "grid_auto_rows": null,
            "grid_column": null,
            "grid_gap": null,
            "grid_row": null,
            "grid_template_areas": null,
            "grid_template_columns": null,
            "grid_template_rows": null,
            "height": null,
            "justify_content": null,
            "justify_items": null,
            "left": null,
            "margin": null,
            "max_height": null,
            "max_width": null,
            "min_height": null,
            "min_width": null,
            "object_fit": null,
            "object_position": null,
            "order": null,
            "overflow": null,
            "overflow_x": null,
            "overflow_y": null,
            "padding": null,
            "right": null,
            "top": null,
            "visibility": null,
            "width": null
          }
        },
        "6405b093d9224ef8be9a4005ff9369e2": {
          "model_module": "@jupyter-widgets/base",
          "model_name": "LayoutModel",
          "model_module_version": "1.2.0",
          "state": {
            "_model_module": "@jupyter-widgets/base",
            "_model_module_version": "1.2.0",
            "_model_name": "LayoutModel",
            "_view_count": null,
            "_view_module": "@jupyter-widgets/base",
            "_view_module_version": "1.2.0",
            "_view_name": "LayoutView",
            "align_content": null,
            "align_items": null,
            "align_self": null,
            "border": null,
            "bottom": null,
            "display": null,
            "flex": null,
            "flex_flow": null,
            "grid_area": null,
            "grid_auto_columns": null,
            "grid_auto_flow": null,
            "grid_auto_rows": null,
            "grid_column": null,
            "grid_gap": null,
            "grid_row": null,
            "grid_template_areas": null,
            "grid_template_columns": null,
            "grid_template_rows": null,
            "height": null,
            "justify_content": null,
            "justify_items": null,
            "left": null,
            "margin": null,
            "max_height": null,
            "max_width": null,
            "min_height": null,
            "min_width": null,
            "object_fit": null,
            "object_position": null,
            "order": null,
            "overflow": null,
            "overflow_x": null,
            "overflow_y": null,
            "padding": null,
            "right": null,
            "top": null,
            "visibility": null,
            "width": null
          }
        },
        "42213d9f7b1c4c1880625624f805bbb6": {
          "model_module": "@jupyter-widgets/controls",
          "model_name": "DescriptionStyleModel",
          "model_module_version": "1.5.0",
          "state": {
            "_model_module": "@jupyter-widgets/controls",
            "_model_module_version": "1.5.0",
            "_model_name": "DescriptionStyleModel",
            "_view_count": null,
            "_view_module": "@jupyter-widgets/base",
            "_view_module_version": "1.2.0",
            "_view_name": "StyleView",
            "description_width": ""
          }
        },
        "036fb3231ed34f8cb3a5a59a1a61a21c": {
          "model_module": "@jupyter-widgets/base",
          "model_name": "LayoutModel",
          "model_module_version": "1.2.0",
          "state": {
            "_model_module": "@jupyter-widgets/base",
            "_model_module_version": "1.2.0",
            "_model_name": "LayoutModel",
            "_view_count": null,
            "_view_module": "@jupyter-widgets/base",
            "_view_module_version": "1.2.0",
            "_view_name": "LayoutView",
            "align_content": null,
            "align_items": null,
            "align_self": null,
            "border": null,
            "bottom": null,
            "display": null,
            "flex": null,
            "flex_flow": null,
            "grid_area": null,
            "grid_auto_columns": null,
            "grid_auto_flow": null,
            "grid_auto_rows": null,
            "grid_column": null,
            "grid_gap": null,
            "grid_row": null,
            "grid_template_areas": null,
            "grid_template_columns": null,
            "grid_template_rows": null,
            "height": null,
            "justify_content": null,
            "justify_items": null,
            "left": null,
            "margin": null,
            "max_height": null,
            "max_width": null,
            "min_height": null,
            "min_width": null,
            "object_fit": null,
            "object_position": null,
            "order": null,
            "overflow": null,
            "overflow_x": null,
            "overflow_y": null,
            "padding": null,
            "right": null,
            "top": null,
            "visibility": null,
            "width": null
          }
        },
        "66aa9a25e4e6448ba8aca44da6033b99": {
          "model_module": "@jupyter-widgets/controls",
          "model_name": "ProgressStyleModel",
          "model_module_version": "1.5.0",
          "state": {
            "_model_module": "@jupyter-widgets/controls",
            "_model_module_version": "1.5.0",
            "_model_name": "ProgressStyleModel",
            "_view_count": null,
            "_view_module": "@jupyter-widgets/base",
            "_view_module_version": "1.2.0",
            "_view_name": "StyleView",
            "bar_color": null,
            "description_width": ""
          }
        },
        "5e222b993a48461fa72ecf7085b8f7fe": {
          "model_module": "@jupyter-widgets/base",
          "model_name": "LayoutModel",
          "model_module_version": "1.2.0",
          "state": {
            "_model_module": "@jupyter-widgets/base",
            "_model_module_version": "1.2.0",
            "_model_name": "LayoutModel",
            "_view_count": null,
            "_view_module": "@jupyter-widgets/base",
            "_view_module_version": "1.2.0",
            "_view_name": "LayoutView",
            "align_content": null,
            "align_items": null,
            "align_self": null,
            "border": null,
            "bottom": null,
            "display": null,
            "flex": null,
            "flex_flow": null,
            "grid_area": null,
            "grid_auto_columns": null,
            "grid_auto_flow": null,
            "grid_auto_rows": null,
            "grid_column": null,
            "grid_gap": null,
            "grid_row": null,
            "grid_template_areas": null,
            "grid_template_columns": null,
            "grid_template_rows": null,
            "height": null,
            "justify_content": null,
            "justify_items": null,
            "left": null,
            "margin": null,
            "max_height": null,
            "max_width": null,
            "min_height": null,
            "min_width": null,
            "object_fit": null,
            "object_position": null,
            "order": null,
            "overflow": null,
            "overflow_x": null,
            "overflow_y": null,
            "padding": null,
            "right": null,
            "top": null,
            "visibility": null,
            "width": null
          }
        },
        "e0d20109ae80457e88bc31a5e29a44da": {
          "model_module": "@jupyter-widgets/controls",
          "model_name": "DescriptionStyleModel",
          "model_module_version": "1.5.0",
          "state": {
            "_model_module": "@jupyter-widgets/controls",
            "_model_module_version": "1.5.0",
            "_model_name": "DescriptionStyleModel",
            "_view_count": null,
            "_view_module": "@jupyter-widgets/base",
            "_view_module_version": "1.2.0",
            "_view_name": "StyleView",
            "description_width": ""
          }
        },
        "0a9b05f8fc404dfa9849ffc8efc5323a": {
          "model_module": "@jupyter-widgets/controls",
          "model_name": "HBoxModel",
          "model_module_version": "1.5.0",
          "state": {
            "_dom_classes": [],
            "_model_module": "@jupyter-widgets/controls",
            "_model_module_version": "1.5.0",
            "_model_name": "HBoxModel",
            "_view_count": null,
            "_view_module": "@jupyter-widgets/controls",
            "_view_module_version": "1.5.0",
            "_view_name": "HBoxView",
            "box_style": "",
            "children": [
              "IPY_MODEL_681ca5b1267a4d6283b0ab5066afa98d",
              "IPY_MODEL_e9132cf8e9254eaea6c75d3a4a847cdf",
              "IPY_MODEL_b50a79210ceb42b884cccc1b382472d6"
            ],
            "layout": "IPY_MODEL_fe6dcb5415054704a1b316df0a665daa"
          }
        },
        "681ca5b1267a4d6283b0ab5066afa98d": {
          "model_module": "@jupyter-widgets/controls",
          "model_name": "HTMLModel",
          "model_module_version": "1.5.0",
          "state": {
            "_dom_classes": [],
            "_model_module": "@jupyter-widgets/controls",
            "_model_module_version": "1.5.0",
            "_model_name": "HTMLModel",
            "_view_count": null,
            "_view_module": "@jupyter-widgets/controls",
            "_view_module_version": "1.5.0",
            "_view_name": "HTMLView",
            "description": "",
            "description_tooltip": null,
            "layout": "IPY_MODEL_3c9ab51cc4984b5f86d60921a0c6a841",
            "placeholder": "​",
            "style": "IPY_MODEL_cdeeaeb801144d669e1cb208bcba282b",
            "value": "model.safetensors: 100%"
          }
        },
        "e9132cf8e9254eaea6c75d3a4a847cdf": {
          "model_module": "@jupyter-widgets/controls",
          "model_name": "FloatProgressModel",
          "model_module_version": "1.5.0",
          "state": {
            "_dom_classes": [],
            "_model_module": "@jupyter-widgets/controls",
            "_model_module_version": "1.5.0",
            "_model_name": "FloatProgressModel",
            "_view_count": null,
            "_view_module": "@jupyter-widgets/controls",
            "_view_module_version": "1.5.0",
            "_view_name": "ProgressView",
            "bar_style": "success",
            "description": "",
            "description_tooltip": null,
            "layout": "IPY_MODEL_0dc27e12deb24982ac888316296f2d18",
            "max": 660393036,
            "min": 0,
            "orientation": "horizontal",
            "style": "IPY_MODEL_16e0f6ce022d4c6b881cabcdb3572b13",
            "value": 660393036
          }
        },
        "b50a79210ceb42b884cccc1b382472d6": {
          "model_module": "@jupyter-widgets/controls",
          "model_name": "HTMLModel",
          "model_module_version": "1.5.0",
          "state": {
            "_dom_classes": [],
            "_model_module": "@jupyter-widgets/controls",
            "_model_module_version": "1.5.0",
            "_model_name": "HTMLModel",
            "_view_count": null,
            "_view_module": "@jupyter-widgets/controls",
            "_view_module_version": "1.5.0",
            "_view_name": "HTMLView",
            "description": "",
            "description_tooltip": null,
            "layout": "IPY_MODEL_bf721262475042f392c07ed2aa9ec221",
            "placeholder": "​",
            "style": "IPY_MODEL_0e84d92964a04845a8310fb5af4fff58",
            "value": " 660M/660M [00:28&lt;00:00, 24.2MB/s]"
          }
        },
        "fe6dcb5415054704a1b316df0a665daa": {
          "model_module": "@jupyter-widgets/base",
          "model_name": "LayoutModel",
          "model_module_version": "1.2.0",
          "state": {
            "_model_module": "@jupyter-widgets/base",
            "_model_module_version": "1.2.0",
            "_model_name": "LayoutModel",
            "_view_count": null,
            "_view_module": "@jupyter-widgets/base",
            "_view_module_version": "1.2.0",
            "_view_name": "LayoutView",
            "align_content": null,
            "align_items": null,
            "align_self": null,
            "border": null,
            "bottom": null,
            "display": null,
            "flex": null,
            "flex_flow": null,
            "grid_area": null,
            "grid_auto_columns": null,
            "grid_auto_flow": null,
            "grid_auto_rows": null,
            "grid_column": null,
            "grid_gap": null,
            "grid_row": null,
            "grid_template_areas": null,
            "grid_template_columns": null,
            "grid_template_rows": null,
            "height": null,
            "justify_content": null,
            "justify_items": null,
            "left": null,
            "margin": null,
            "max_height": null,
            "max_width": null,
            "min_height": null,
            "min_width": null,
            "object_fit": null,
            "object_position": null,
            "order": null,
            "overflow": null,
            "overflow_x": null,
            "overflow_y": null,
            "padding": null,
            "right": null,
            "top": null,
            "visibility": null,
            "width": null
          }
        },
        "3c9ab51cc4984b5f86d60921a0c6a841": {
          "model_module": "@jupyter-widgets/base",
          "model_name": "LayoutModel",
          "model_module_version": "1.2.0",
          "state": {
            "_model_module": "@jupyter-widgets/base",
            "_model_module_version": "1.2.0",
            "_model_name": "LayoutModel",
            "_view_count": null,
            "_view_module": "@jupyter-widgets/base",
            "_view_module_version": "1.2.0",
            "_view_name": "LayoutView",
            "align_content": null,
            "align_items": null,
            "align_self": null,
            "border": null,
            "bottom": null,
            "display": null,
            "flex": null,
            "flex_flow": null,
            "grid_area": null,
            "grid_auto_columns": null,
            "grid_auto_flow": null,
            "grid_auto_rows": null,
            "grid_column": null,
            "grid_gap": null,
            "grid_row": null,
            "grid_template_areas": null,
            "grid_template_columns": null,
            "grid_template_rows": null,
            "height": null,
            "justify_content": null,
            "justify_items": null,
            "left": null,
            "margin": null,
            "max_height": null,
            "max_width": null,
            "min_height": null,
            "min_width": null,
            "object_fit": null,
            "object_position": null,
            "order": null,
            "overflow": null,
            "overflow_x": null,
            "overflow_y": null,
            "padding": null,
            "right": null,
            "top": null,
            "visibility": null,
            "width": null
          }
        },
        "cdeeaeb801144d669e1cb208bcba282b": {
          "model_module": "@jupyter-widgets/controls",
          "model_name": "DescriptionStyleModel",
          "model_module_version": "1.5.0",
          "state": {
            "_model_module": "@jupyter-widgets/controls",
            "_model_module_version": "1.5.0",
            "_model_name": "DescriptionStyleModel",
            "_view_count": null,
            "_view_module": "@jupyter-widgets/base",
            "_view_module_version": "1.2.0",
            "_view_name": "StyleView",
            "description_width": ""
          }
        },
        "0dc27e12deb24982ac888316296f2d18": {
          "model_module": "@jupyter-widgets/base",
          "model_name": "LayoutModel",
          "model_module_version": "1.2.0",
          "state": {
            "_model_module": "@jupyter-widgets/base",
            "_model_module_version": "1.2.0",
            "_model_name": "LayoutModel",
            "_view_count": null,
            "_view_module": "@jupyter-widgets/base",
            "_view_module_version": "1.2.0",
            "_view_name": "LayoutView",
            "align_content": null,
            "align_items": null,
            "align_self": null,
            "border": null,
            "bottom": null,
            "display": null,
            "flex": null,
            "flex_flow": null,
            "grid_area": null,
            "grid_auto_columns": null,
            "grid_auto_flow": null,
            "grid_auto_rows": null,
            "grid_column": null,
            "grid_gap": null,
            "grid_row": null,
            "grid_template_areas": null,
            "grid_template_columns": null,
            "grid_template_rows": null,
            "height": null,
            "justify_content": null,
            "justify_items": null,
            "left": null,
            "margin": null,
            "max_height": null,
            "max_width": null,
            "min_height": null,
            "min_width": null,
            "object_fit": null,
            "object_position": null,
            "order": null,
            "overflow": null,
            "overflow_x": null,
            "overflow_y": null,
            "padding": null,
            "right": null,
            "top": null,
            "visibility": null,
            "width": null
          }
        },
        "16e0f6ce022d4c6b881cabcdb3572b13": {
          "model_module": "@jupyter-widgets/controls",
          "model_name": "ProgressStyleModel",
          "model_module_version": "1.5.0",
          "state": {
            "_model_module": "@jupyter-widgets/controls",
            "_model_module_version": "1.5.0",
            "_model_name": "ProgressStyleModel",
            "_view_count": null,
            "_view_module": "@jupyter-widgets/base",
            "_view_module_version": "1.2.0",
            "_view_name": "StyleView",
            "bar_color": null,
            "description_width": ""
          }
        },
        "bf721262475042f392c07ed2aa9ec221": {
          "model_module": "@jupyter-widgets/base",
          "model_name": "LayoutModel",
          "model_module_version": "1.2.0",
          "state": {
            "_model_module": "@jupyter-widgets/base",
            "_model_module_version": "1.2.0",
            "_model_name": "LayoutModel",
            "_view_count": null,
            "_view_module": "@jupyter-widgets/base",
            "_view_module_version": "1.2.0",
            "_view_name": "LayoutView",
            "align_content": null,
            "align_items": null,
            "align_self": null,
            "border": null,
            "bottom": null,
            "display": null,
            "flex": null,
            "flex_flow": null,
            "grid_area": null,
            "grid_auto_columns": null,
            "grid_auto_flow": null,
            "grid_auto_rows": null,
            "grid_column": null,
            "grid_gap": null,
            "grid_row": null,
            "grid_template_areas": null,
            "grid_template_columns": null,
            "grid_template_rows": null,
            "height": null,
            "justify_content": null,
            "justify_items": null,
            "left": null,
            "margin": null,
            "max_height": null,
            "max_width": null,
            "min_height": null,
            "min_width": null,
            "object_fit": null,
            "object_position": null,
            "order": null,
            "overflow": null,
            "overflow_x": null,
            "overflow_y": null,
            "padding": null,
            "right": null,
            "top": null,
            "visibility": null,
            "width": null
          }
        },
        "0e84d92964a04845a8310fb5af4fff58": {
          "model_module": "@jupyter-widgets/controls",
          "model_name": "DescriptionStyleModel",
          "model_module_version": "1.5.0",
          "state": {
            "_model_module": "@jupyter-widgets/controls",
            "_model_module_version": "1.5.0",
            "_model_name": "DescriptionStyleModel",
            "_view_count": null,
            "_view_module": "@jupyter-widgets/base",
            "_view_module_version": "1.2.0",
            "_view_name": "StyleView",
            "description_width": ""
          }
        }
      }
    }
  },
  "cells": [
    {
      "cell_type": "markdown",
      "metadata": {
        "id": "view-in-github",
        "colab_type": "text"
      },
      "source": [
        "<a href=\"https://colab.research.google.com/github/tanvir-talha058/Machine-Learning/blob/main/banglabert.ipynb\" target=\"_parent\"><img src=\"https://colab.research.google.com/assets/colab-badge.svg\" alt=\"Open In Colab\"/></a>"
      ]
    },
    {
      "cell_type": "code",
      "execution_count": 1,
      "metadata": {
        "colab": {
          "base_uri": "https://localhost:8080/"
        },
        "id": "uAeALbiFQFx6",
        "outputId": "c4b6a6ed-2c44-45ac-c30e-bc9721c29e53"
      },
      "outputs": [
        {
          "output_type": "stream",
          "name": "stdout",
          "text": [
            "Requirement already satisfied: transformers in /usr/local/lib/python3.11/dist-packages (4.54.0)\n",
            "Requirement already satisfied: datasets in /usr/local/lib/python3.11/dist-packages (4.0.0)\n",
            "Requirement already satisfied: pandas in /usr/local/lib/python3.11/dist-packages (2.2.2)\n",
            "Requirement already satisfied: scikit-learn in /usr/local/lib/python3.11/dist-packages (1.6.1)\n",
            "Requirement already satisfied: filelock in /usr/local/lib/python3.11/dist-packages (from transformers) (3.18.0)\n",
            "Requirement already satisfied: huggingface-hub<1.0,>=0.34.0 in /usr/local/lib/python3.11/dist-packages (from transformers) (0.34.1)\n",
            "Requirement already satisfied: numpy>=1.17 in /usr/local/lib/python3.11/dist-packages (from transformers) (2.0.2)\n",
            "Requirement already satisfied: packaging>=20.0 in /usr/local/lib/python3.11/dist-packages (from transformers) (25.0)\n",
            "Requirement already satisfied: pyyaml>=5.1 in /usr/local/lib/python3.11/dist-packages (from transformers) (6.0.2)\n",
            "Requirement already satisfied: regex!=2019.12.17 in /usr/local/lib/python3.11/dist-packages (from transformers) (2024.11.6)\n",
            "Requirement already satisfied: requests in /usr/local/lib/python3.11/dist-packages (from transformers) (2.32.3)\n",
            "Requirement already satisfied: tokenizers<0.22,>=0.21 in /usr/local/lib/python3.11/dist-packages (from transformers) (0.21.2)\n",
            "Requirement already satisfied: safetensors>=0.4.3 in /usr/local/lib/python3.11/dist-packages (from transformers) (0.5.3)\n",
            "Requirement already satisfied: tqdm>=4.27 in /usr/local/lib/python3.11/dist-packages (from transformers) (4.67.1)\n",
            "Requirement already satisfied: pyarrow>=15.0.0 in /usr/local/lib/python3.11/dist-packages (from datasets) (18.1.0)\n",
            "Requirement already satisfied: dill<0.3.9,>=0.3.0 in /usr/local/lib/python3.11/dist-packages (from datasets) (0.3.8)\n",
            "Requirement already satisfied: xxhash in /usr/local/lib/python3.11/dist-packages (from datasets) (3.5.0)\n",
            "Requirement already satisfied: multiprocess<0.70.17 in /usr/local/lib/python3.11/dist-packages (from datasets) (0.70.16)\n",
            "Requirement already satisfied: fsspec<=2025.3.0,>=2023.1.0 in /usr/local/lib/python3.11/dist-packages (from fsspec[http]<=2025.3.0,>=2023.1.0->datasets) (2025.3.0)\n",
            "Requirement already satisfied: python-dateutil>=2.8.2 in /usr/local/lib/python3.11/dist-packages (from pandas) (2.9.0.post0)\n",
            "Requirement already satisfied: pytz>=2020.1 in /usr/local/lib/python3.11/dist-packages (from pandas) (2025.2)\n",
            "Requirement already satisfied: tzdata>=2022.7 in /usr/local/lib/python3.11/dist-packages (from pandas) (2025.2)\n",
            "Requirement already satisfied: scipy>=1.6.0 in /usr/local/lib/python3.11/dist-packages (from scikit-learn) (1.16.0)\n",
            "Requirement already satisfied: joblib>=1.2.0 in /usr/local/lib/python3.11/dist-packages (from scikit-learn) (1.5.1)\n",
            "Requirement already satisfied: threadpoolctl>=3.1.0 in /usr/local/lib/python3.11/dist-packages (from scikit-learn) (3.6.0)\n",
            "Requirement already satisfied: aiohttp!=4.0.0a0,!=4.0.0a1 in /usr/local/lib/python3.11/dist-packages (from fsspec[http]<=2025.3.0,>=2023.1.0->datasets) (3.12.14)\n",
            "Requirement already satisfied: typing-extensions>=3.7.4.3 in /usr/local/lib/python3.11/dist-packages (from huggingface-hub<1.0,>=0.34.0->transformers) (4.14.1)\n",
            "Requirement already satisfied: hf-xet<2.0.0,>=1.1.3 in /usr/local/lib/python3.11/dist-packages (from huggingface-hub<1.0,>=0.34.0->transformers) (1.1.5)\n",
            "Requirement already satisfied: six>=1.5 in /usr/local/lib/python3.11/dist-packages (from python-dateutil>=2.8.2->pandas) (1.17.0)\n",
            "Requirement already satisfied: charset-normalizer<4,>=2 in /usr/local/lib/python3.11/dist-packages (from requests->transformers) (3.4.2)\n",
            "Requirement already satisfied: idna<4,>=2.5 in /usr/local/lib/python3.11/dist-packages (from requests->transformers) (3.10)\n",
            "Requirement already satisfied: urllib3<3,>=1.21.1 in /usr/local/lib/python3.11/dist-packages (from requests->transformers) (2.5.0)\n",
            "Requirement already satisfied: certifi>=2017.4.17 in /usr/local/lib/python3.11/dist-packages (from requests->transformers) (2025.7.14)\n",
            "Requirement already satisfied: aiohappyeyeballs>=2.5.0 in /usr/local/lib/python3.11/dist-packages (from aiohttp!=4.0.0a0,!=4.0.0a1->fsspec[http]<=2025.3.0,>=2023.1.0->datasets) (2.6.1)\n",
            "Requirement already satisfied: aiosignal>=1.4.0 in /usr/local/lib/python3.11/dist-packages (from aiohttp!=4.0.0a0,!=4.0.0a1->fsspec[http]<=2025.3.0,>=2023.1.0->datasets) (1.4.0)\n",
            "Requirement already satisfied: attrs>=17.3.0 in /usr/local/lib/python3.11/dist-packages (from aiohttp!=4.0.0a0,!=4.0.0a1->fsspec[http]<=2025.3.0,>=2023.1.0->datasets) (25.3.0)\n",
            "Requirement already satisfied: frozenlist>=1.1.1 in /usr/local/lib/python3.11/dist-packages (from aiohttp!=4.0.0a0,!=4.0.0a1->fsspec[http]<=2025.3.0,>=2023.1.0->datasets) (1.7.0)\n",
            "Requirement already satisfied: multidict<7.0,>=4.5 in /usr/local/lib/python3.11/dist-packages (from aiohttp!=4.0.0a0,!=4.0.0a1->fsspec[http]<=2025.3.0,>=2023.1.0->datasets) (6.6.3)\n",
            "Requirement already satisfied: propcache>=0.2.0 in /usr/local/lib/python3.11/dist-packages (from aiohttp!=4.0.0a0,!=4.0.0a1->fsspec[http]<=2025.3.0,>=2023.1.0->datasets) (0.3.2)\n",
            "Requirement already satisfied: yarl<2.0,>=1.17.0 in /usr/local/lib/python3.11/dist-packages (from aiohttp!=4.0.0a0,!=4.0.0a1->fsspec[http]<=2025.3.0,>=2023.1.0->datasets) (1.20.1)\n"
          ]
        }
      ],
      "source": [
        "pip install transformers datasets pandas scikit-learn\n"
      ]
    },
    {
      "cell_type": "code",
      "source": [
        "pip install -U transformers\n"
      ],
      "metadata": {
        "colab": {
          "base_uri": "https://localhost:8080/"
        },
        "id": "0q11PB_FR2x2",
        "outputId": "ed14fd5d-0a55-4c70-ec30-da7e12509c56"
      },
      "execution_count": 2,
      "outputs": [
        {
          "output_type": "stream",
          "name": "stdout",
          "text": [
            "Requirement already satisfied: transformers in /usr/local/lib/python3.11/dist-packages (4.54.0)\n",
            "Collecting transformers\n",
            "  Downloading transformers-4.54.1-py3-none-any.whl.metadata (41 kB)\n",
            "\u001b[2K     \u001b[90m━━━━━━━━━━━━━━━━━━━━━━━━━━━━━━━━━━━━━━━━\u001b[0m \u001b[32m41.7/41.7 kB\u001b[0m \u001b[31m3.5 MB/s\u001b[0m eta \u001b[36m0:00:00\u001b[0m\n",
            "\u001b[?25hRequirement already satisfied: filelock in /usr/local/lib/python3.11/dist-packages (from transformers) (3.18.0)\n",
            "Requirement already satisfied: huggingface-hub<1.0,>=0.34.0 in /usr/local/lib/python3.11/dist-packages (from transformers) (0.34.1)\n",
            "Requirement already satisfied: numpy>=1.17 in /usr/local/lib/python3.11/dist-packages (from transformers) (2.0.2)\n",
            "Requirement already satisfied: packaging>=20.0 in /usr/local/lib/python3.11/dist-packages (from transformers) (25.0)\n",
            "Requirement already satisfied: pyyaml>=5.1 in /usr/local/lib/python3.11/dist-packages (from transformers) (6.0.2)\n",
            "Requirement already satisfied: regex!=2019.12.17 in /usr/local/lib/python3.11/dist-packages (from transformers) (2024.11.6)\n",
            "Requirement already satisfied: requests in /usr/local/lib/python3.11/dist-packages (from transformers) (2.32.3)\n",
            "Requirement already satisfied: tokenizers<0.22,>=0.21 in /usr/local/lib/python3.11/dist-packages (from transformers) (0.21.2)\n",
            "Requirement already satisfied: safetensors>=0.4.3 in /usr/local/lib/python3.11/dist-packages (from transformers) (0.5.3)\n",
            "Requirement already satisfied: tqdm>=4.27 in /usr/local/lib/python3.11/dist-packages (from transformers) (4.67.1)\n",
            "Requirement already satisfied: fsspec>=2023.5.0 in /usr/local/lib/python3.11/dist-packages (from huggingface-hub<1.0,>=0.34.0->transformers) (2025.3.0)\n",
            "Requirement already satisfied: typing-extensions>=3.7.4.3 in /usr/local/lib/python3.11/dist-packages (from huggingface-hub<1.0,>=0.34.0->transformers) (4.14.1)\n",
            "Requirement already satisfied: hf-xet<2.0.0,>=1.1.3 in /usr/local/lib/python3.11/dist-packages (from huggingface-hub<1.0,>=0.34.0->transformers) (1.1.5)\n",
            "Requirement already satisfied: charset-normalizer<4,>=2 in /usr/local/lib/python3.11/dist-packages (from requests->transformers) (3.4.2)\n",
            "Requirement already satisfied: idna<4,>=2.5 in /usr/local/lib/python3.11/dist-packages (from requests->transformers) (3.10)\n",
            "Requirement already satisfied: urllib3<3,>=1.21.1 in /usr/local/lib/python3.11/dist-packages (from requests->transformers) (2.5.0)\n",
            "Requirement already satisfied: certifi>=2017.4.17 in /usr/local/lib/python3.11/dist-packages (from requests->transformers) (2025.7.14)\n",
            "Downloading transformers-4.54.1-py3-none-any.whl (11.2 MB)\n",
            "\u001b[2K   \u001b[90m━━━━━━━━━━━━━━━━━━━━━━━━━━━━━━━━━━━━━━━━\u001b[0m \u001b[32m11.2/11.2 MB\u001b[0m \u001b[31m77.2 MB/s\u001b[0m eta \u001b[36m0:00:00\u001b[0m\n",
            "\u001b[?25hInstalling collected packages: transformers\n",
            "  Attempting uninstall: transformers\n",
            "    Found existing installation: transformers 4.54.0\n",
            "    Uninstalling transformers-4.54.0:\n",
            "      Successfully uninstalled transformers-4.54.0\n",
            "Successfully installed transformers-4.54.1\n"
          ]
        }
      ]
    },
    {
      "cell_type": "code",
      "source": [
        "pip install --upgrade transformers\n"
      ],
      "metadata": {
        "colab": {
          "base_uri": "https://localhost:8080/"
        },
        "id": "KGohpl35ZsUl",
        "outputId": "69a8fd88-18f3-43de-9734-8464c678e95f"
      },
      "execution_count": 3,
      "outputs": [
        {
          "output_type": "stream",
          "name": "stdout",
          "text": [
            "Requirement already satisfied: transformers in /usr/local/lib/python3.11/dist-packages (4.54.1)\n",
            "Requirement already satisfied: filelock in /usr/local/lib/python3.11/dist-packages (from transformers) (3.18.0)\n",
            "Requirement already satisfied: huggingface-hub<1.0,>=0.34.0 in /usr/local/lib/python3.11/dist-packages (from transformers) (0.34.1)\n",
            "Requirement already satisfied: numpy>=1.17 in /usr/local/lib/python3.11/dist-packages (from transformers) (2.0.2)\n",
            "Requirement already satisfied: packaging>=20.0 in /usr/local/lib/python3.11/dist-packages (from transformers) (25.0)\n",
            "Requirement already satisfied: pyyaml>=5.1 in /usr/local/lib/python3.11/dist-packages (from transformers) (6.0.2)\n",
            "Requirement already satisfied: regex!=2019.12.17 in /usr/local/lib/python3.11/dist-packages (from transformers) (2024.11.6)\n",
            "Requirement already satisfied: requests in /usr/local/lib/python3.11/dist-packages (from transformers) (2.32.3)\n",
            "Requirement already satisfied: tokenizers<0.22,>=0.21 in /usr/local/lib/python3.11/dist-packages (from transformers) (0.21.2)\n",
            "Requirement already satisfied: safetensors>=0.4.3 in /usr/local/lib/python3.11/dist-packages (from transformers) (0.5.3)\n",
            "Requirement already satisfied: tqdm>=4.27 in /usr/local/lib/python3.11/dist-packages (from transformers) (4.67.1)\n",
            "Requirement already satisfied: fsspec>=2023.5.0 in /usr/local/lib/python3.11/dist-packages (from huggingface-hub<1.0,>=0.34.0->transformers) (2025.3.0)\n",
            "Requirement already satisfied: typing-extensions>=3.7.4.3 in /usr/local/lib/python3.11/dist-packages (from huggingface-hub<1.0,>=0.34.0->transformers) (4.14.1)\n",
            "Requirement already satisfied: hf-xet<2.0.0,>=1.1.3 in /usr/local/lib/python3.11/dist-packages (from huggingface-hub<1.0,>=0.34.0->transformers) (1.1.5)\n",
            "Requirement already satisfied: charset-normalizer<4,>=2 in /usr/local/lib/python3.11/dist-packages (from requests->transformers) (3.4.2)\n",
            "Requirement already satisfied: idna<4,>=2.5 in /usr/local/lib/python3.11/dist-packages (from requests->transformers) (3.10)\n",
            "Requirement already satisfied: urllib3<3,>=1.21.1 in /usr/local/lib/python3.11/dist-packages (from requests->transformers) (2.5.0)\n",
            "Requirement already satisfied: certifi>=2017.4.17 in /usr/local/lib/python3.11/dist-packages (from requests->transformers) (2025.7.14)\n"
          ]
        }
      ]
    },
    {
      "cell_type": "code",
      "source": [
        "import pandas as pd\n",
        "import torch\n",
        "from sklearn.model_selection import train_test_split\n",
        "from datasets import Dataset\n",
        "from transformers import AutoTokenizer, AutoModelForSequenceClassification, TrainingArguments, Trainer\n",
        "from transformers import DataCollatorWithPadding, set_seed\n",
        "import numpy as np\n",
        "from sklearn.metrics import accuracy_score, f1_score\n",
        "\n",
        "# Set random seed\n",
        "set_seed(42)\n",
        "\n",
        "# Step 1: Load CSV\n",
        "df = pd.read_csv(\"dataset.csv\", encoding='utf-8')  # Save your Excel as CSV first\n",
        "\n",
        "# Step 2: Reshape Data\n",
        "rows = []\n",
        "for col in df.columns:\n",
        "    for val in df[col].dropna():\n",
        "        rows.append({'text': val.strip(), 'label': col})\n",
        "\n",
        "data = pd.DataFrame(rows)\n",
        "\n",
        "# Step 3: Label Encoding\n",
        "label2id = {label: i for i, label in enumerate(data['label'].unique())}\n",
        "id2label = {i: label for label, i in label2id.items()}\n",
        "data['label_id'] = data['label'].map(label2id)\n",
        "\n",
        "# Step 4: Train-test split\n",
        "train_df, test_df = train_test_split(data, test_size=0.2, stratify=data['label_id'], random_state=42)\n",
        "\n",
        "# Step 5: Convert to HuggingFace Dataset\n",
        "train_dataset = Dataset.from_pandas(train_df[['text', 'label_id']])\n",
        "test_dataset = Dataset.from_pandas(test_df[['text', 'label_id']])\n",
        "\n",
        "# Step 6: Load BanglaBERT Tokenizer\n",
        "model_name = \"sagorsarker/bangla-bert-base\"\n",
        "tokenizer = AutoTokenizer.from_pretrained(model_name)\n",
        "\n",
        "# Tokenization function\n",
        "def tokenize(batch):\n",
        "    return tokenizer(batch['text'], truncation=True) # Removed padding=True\n",
        "\n",
        "train_dataset = train_dataset.map(tokenize, batched=True)\n",
        "test_dataset = test_dataset.map(tokenize, batched=True)\n",
        "\n",
        "# Rename 'label_id' to 'labels' in the datasets BEFORE initializing Trainer\n",
        "train_dataset = train_dataset.rename_column(\"label_id\", \"labels\")\n",
        "test_dataset = test_dataset.rename_column(\"label_id\", \"labels\")\n",
        "\n",
        "# Remove unnecessary columns\n",
        "train_dataset = train_dataset.remove_columns([\"text\"])\n",
        "test_dataset = test_dataset.remove_columns([\"text\"])\n",
        "\n",
        "\n",
        "# Step 7: Load Model\n",
        "model = AutoModelForSequenceClassification.from_pretrained(model_name, num_labels=len(label2id))\n",
        "\n",
        "# Step 8: Metrics\n",
        "def compute_metrics(pred):\n",
        "    print(\"Pred object:\", pred) # Add print statement\n",
        "    print(\"Pred label_ids:\", pred.label_ids) # Add print statement\n",
        "    if pred.label_ids is None:\n",
        "        return {} # Return empty dict if labels are None\n",
        "    labels = pred.label_ids.astype(int)\n",
        "    preds = np.argmax(pred.predictions, axis=1).astype(int)\n",
        "\n",
        "    print(\"Labels unique values:\", np.unique(labels)) # Add print statement\n",
        "    print(\"Preds unique values:\", np.unique(preds)) # Add print statement\n",
        "    print(\"Labels dtype:\", labels.dtype) # Add print statement\n",
        "    print(\"Preds dtype:\", preds.dtype) # Add print statement\n",
        "\n",
        "\n",
        "    return {\n",
        "        'accuracy': accuracy_score(labels, preds),\n",
        "        'f1_macro': f1_score(labels, preds, average='macro', zero_division=0)\n",
        "    }\n",
        "\n",
        "# Step 9: Training Config\n",
        "training_args = TrainingArguments(\n",
        "    output_dir=\"./results\",\n",
        "    eval_strategy=\"epoch\",\n",
        "    learning_rate=2e-5,\n",
        "    per_device_train_batch_size=8,\n",
        "    per_device_eval_batch_size=8,\n",
        "    num_train_epochs=20,\n",
        "    weight_decay=0.01,\n",
        "    logging_dir='./logs',\n",
        "    load_best_model_at_end=True,\n",
        "    save_strategy=\"epoch\",\n",
        "    # label_names=[\"labels\"] # Removed this as it's not a valid argument\n",
        ")\n",
        "\n",
        "# Step 10: Train\n",
        "data_collator = DataCollatorWithPadding(tokenizer=tokenizer)\n",
        "\n",
        "trainer = Trainer(\n",
        "    model=model,\n",
        "    args=training_args,\n",
        "    train_dataset=train_dataset,\n",
        "    eval_dataset=test_dataset,\n",
        "    tokenizer=tokenizer,\n",
        "    data_collator=data_collator,\n",
        "    compute_metrics=compute_metrics,\n",
        ")\n",
        "\n",
        "\n",
        "# Add a print statement to inspect the dataset keys before training\n",
        "print(\"Train dataset features:\", train_dataset.features)\n",
        "print(\"Test dataset features:\", test_dataset.features)\n",
        "\n",
        "\n",
        "trainer.train()\n",
        "\n",
        "# Optional: Save Model\n",
        "model.save_pretrained(\"banglabert-dialect-classifier2\")\n",
        "tokenizer.save_pretrained(\"banglabert-dialect-classifier2\")"
      ],
      "metadata": {
        "colab": {
          "base_uri": "https://localhost:8080/",
          "height": 1000,
          "referenced_widgets": [
            "557bfe9256024fa09c7703708edab799",
            "15077fd6383b4eefab1416483864e2f2",
            "13548e0e394a40fab4a8c0b1ccbb99ae",
            "0b2a2d5310d441dcb9d8f2236b81f7ae",
            "5ee93084b42a49cdba7c71ba31763aae",
            "87a6a652cc6549eb9e10f0fafc7f1856",
            "2a4f9bfad2b74c9cb85b6811e4024b0d",
            "65caf6916ebb46368a1410c766f08795",
            "ecd8111fe69b4a1385cf48fe85febd99",
            "38446de04f3b46c1a09b49e28073970b",
            "2ae373f91c6e4582829c8ba84399af01",
            "9ab6c10fb06f44a287f6dd69868c86d7",
            "ab32a7a8ce95421aba29438f0665d8d6",
            "9c17d3ca00724637a05123b691c0150a",
            "1b25792d7113403db381468b8d0527d5",
            "42cfae50d9ce4854a2447ace6457a91b",
            "ae04f6f103a947228a4dd1c639462dde",
            "a1234c446cca40328d9241aceff0661b",
            "041d509352f34930955081221e611e61",
            "a18a719c1faa4ad88c59f2229feba30a",
            "7681500a3cf44a3487e2fddcb4a1bdf4",
            "9cbd6faa6c304b408e01944c873fb391",
            "8802e75862a943d19607cdaa5778dea9",
            "9e41521cdd7c4c07a039310423f492b8",
            "ac93775325d845639f5635942429d704",
            "ce6772f7324e4dc5a52b38d91f9195c9",
            "0e31d88e77814864b14239a250251e89",
            "4139048caab44df4adf4d38748acc6b8",
            "248108744d624f4dbe2c97004f052d7b",
            "bff6bb76c8c042e39b01632cdcb522dd",
            "edd3fc2e82984c3695aa6bcbcd2badca",
            "357e5cd9749a4a5586bbf20efd585486",
            "65e7eb33db9144ffa3229a0acfc6f7a5",
            "b17a5334f8ef4ee593369d4533abe759",
            "4006332348104131bc7e735a00fb9d87",
            "c44c3279d7f94d57bf61b8a894bc4933",
            "594a99da30884bcc82ccbc9e660ed086",
            "fe5169689dff4c418152a70446e1ea7d",
            "6405b093d9224ef8be9a4005ff9369e2",
            "42213d9f7b1c4c1880625624f805bbb6",
            "036fb3231ed34f8cb3a5a59a1a61a21c",
            "66aa9a25e4e6448ba8aca44da6033b99",
            "5e222b993a48461fa72ecf7085b8f7fe",
            "e0d20109ae80457e88bc31a5e29a44da",
            "0a9b05f8fc404dfa9849ffc8efc5323a",
            "681ca5b1267a4d6283b0ab5066afa98d",
            "e9132cf8e9254eaea6c75d3a4a847cdf",
            "b50a79210ceb42b884cccc1b382472d6",
            "fe6dcb5415054704a1b316df0a665daa",
            "3c9ab51cc4984b5f86d60921a0c6a841",
            "cdeeaeb801144d669e1cb208bcba282b",
            "0dc27e12deb24982ac888316296f2d18",
            "16e0f6ce022d4c6b881cabcdb3572b13",
            "bf721262475042f392c07ed2aa9ec221",
            "0e84d92964a04845a8310fb5af4fff58"
          ]
        },
        "id": "I7IEwda1QOyJ",
        "outputId": "bdb16fc3-4ec3-4f0e-ea16-a9eab56dfc8b"
      },
      "execution_count": 25,
      "outputs": [
        {
          "output_type": "stream",
          "name": "stderr",
          "text": [
            "/usr/local/lib/python3.11/dist-packages/huggingface_hub/utils/_auth.py:94: UserWarning: \n",
            "The secret `HF_TOKEN` does not exist in your Colab secrets.\n",
            "To authenticate with the Hugging Face Hub, create a token in your settings tab (https://huggingface.co/settings/tokens), set it as secret in your Google Colab and restart your session.\n",
            "You will be able to reuse this secret in all of your notebooks.\n",
            "Please note that authentication is recommended but still optional to access public models or datasets.\n",
            "  warnings.warn(\n"
          ]
        },
        {
          "output_type": "display_data",
          "data": {
            "text/plain": [
              "config.json:   0%|          | 0.00/491 [00:00<?, ?B/s]"
            ],
            "application/vnd.jupyter.widget-view+json": {
              "version_major": 2,
              "version_minor": 0,
              "model_id": "557bfe9256024fa09c7703708edab799"
            }
          },
          "metadata": {}
        },
        {
          "output_type": "display_data",
          "data": {
            "text/plain": [
              "vocab.txt: 0.00B [00:00, ?B/s]"
            ],
            "application/vnd.jupyter.widget-view+json": {
              "version_major": 2,
              "version_minor": 0,
              "model_id": "9ab6c10fb06f44a287f6dd69868c86d7"
            }
          },
          "metadata": {}
        },
        {
          "output_type": "display_data",
          "data": {
            "text/plain": [
              "Map:   0%|          | 0/1412 [00:00<?, ? examples/s]"
            ],
            "application/vnd.jupyter.widget-view+json": {
              "version_major": 2,
              "version_minor": 0,
              "model_id": "8802e75862a943d19607cdaa5778dea9"
            }
          },
          "metadata": {}
        },
        {
          "output_type": "stream",
          "name": "stderr",
          "text": [
            "Asking to truncate to max_length but no maximum length is provided and the model has no predefined maximum length. Default to no truncation.\n"
          ]
        },
        {
          "output_type": "display_data",
          "data": {
            "text/plain": [
              "Map:   0%|          | 0/353 [00:00<?, ? examples/s]"
            ],
            "application/vnd.jupyter.widget-view+json": {
              "version_major": 2,
              "version_minor": 0,
              "model_id": "b17a5334f8ef4ee593369d4533abe759"
            }
          },
          "metadata": {}
        },
        {
          "output_type": "display_data",
          "data": {
            "text/plain": [
              "model.safetensors:   0%|          | 0.00/660M [00:00<?, ?B/s]"
            ],
            "application/vnd.jupyter.widget-view+json": {
              "version_major": 2,
              "version_minor": 0,
              "model_id": "0a9b05f8fc404dfa9849ffc8efc5323a"
            }
          },
          "metadata": {}
        },
        {
          "output_type": "stream",
          "name": "stderr",
          "text": [
            "Some weights of BertForSequenceClassification were not initialized from the model checkpoint at sagorsarker/bangla-bert-base and are newly initialized: ['classifier.bias', 'classifier.weight']\n",
            "You should probably TRAIN this model on a down-stream task to be able to use it for predictions and inference.\n",
            "/tmp/ipython-input-4136441433.py:97: FutureWarning: `tokenizer` is deprecated and will be removed in version 5.0.0 for `Trainer.__init__`. Use `processing_class` instead.\n",
            "  trainer = Trainer(\n"
          ]
        },
        {
          "output_type": "stream",
          "name": "stdout",
          "text": [
            "Train dataset features: {'labels': Value('int64'), '__index_level_0__': Value('int64'), 'input_ids': List(Value('int32')), 'token_type_ids': List(Value('int8')), 'attention_mask': List(Value('int8'))}\n",
            "Test dataset features: {'labels': Value('int64'), '__index_level_0__': Value('int64'), 'input_ids': List(Value('int32')), 'token_type_ids': List(Value('int8')), 'attention_mask': List(Value('int8'))}\n"
          ]
        },
        {
          "output_type": "stream",
          "name": "stderr",
          "text": [
            "\u001b[34m\u001b[1mwandb\u001b[0m: \u001b[33mWARNING\u001b[0m The `run_name` is currently set to the same value as `TrainingArguments.output_dir`. If this was not intended, please specify a different run name by setting the `TrainingArguments.run_name` parameter.\n"
          ]
        },
        {
          "output_type": "display_data",
          "data": {
            "text/plain": [
              "<IPython.core.display.Javascript object>"
            ],
            "application/javascript": [
              "\n",
              "        window._wandbApiKey = new Promise((resolve, reject) => {\n",
              "            function loadScript(url) {\n",
              "            return new Promise(function(resolve, reject) {\n",
              "                let newScript = document.createElement(\"script\");\n",
              "                newScript.onerror = reject;\n",
              "                newScript.onload = resolve;\n",
              "                document.body.appendChild(newScript);\n",
              "                newScript.src = url;\n",
              "            });\n",
              "            }\n",
              "            loadScript(\"https://cdn.jsdelivr.net/npm/postmate/build/postmate.min.js\").then(() => {\n",
              "            const iframe = document.createElement('iframe')\n",
              "            iframe.style.cssText = \"width:0;height:0;border:none\"\n",
              "            document.body.appendChild(iframe)\n",
              "            const handshake = new Postmate({\n",
              "                container: iframe,\n",
              "                url: 'https://wandb.ai/authorize'\n",
              "            });\n",
              "            const timeout = setTimeout(() => reject(\"Couldn't auto authenticate\"), 5000)\n",
              "            handshake.then(function(child) {\n",
              "                child.on('authorize', data => {\n",
              "                    clearTimeout(timeout)\n",
              "                    resolve(data)\n",
              "                });\n",
              "            });\n",
              "            })\n",
              "        });\n",
              "    "
            ]
          },
          "metadata": {}
        },
        {
          "output_type": "stream",
          "name": "stderr",
          "text": [
            "\u001b[34m\u001b[1mwandb\u001b[0m: Logging into wandb.ai. (Learn how to deploy a W&B server locally: https://wandb.me/wandb-server)\n",
            "\u001b[34m\u001b[1mwandb\u001b[0m: You can find your API key in your browser here: https://wandb.ai/authorize?ref=models\n",
            "wandb: Paste an API key from your profile and hit enter:"
          ]
        },
        {
          "name": "stdout",
          "output_type": "stream",
          "text": [
            " ··········\n"
          ]
        },
        {
          "output_type": "stream",
          "name": "stderr",
          "text": [
            "\u001b[34m\u001b[1mwandb\u001b[0m: \u001b[33mWARNING\u001b[0m If you're specifying your api key in code, ensure this code is not shared publicly.\n",
            "\u001b[34m\u001b[1mwandb\u001b[0m: \u001b[33mWARNING\u001b[0m Consider setting the WANDB_API_KEY environment variable, or running `wandb login` from the command line.\n",
            "\u001b[34m\u001b[1mwandb\u001b[0m: No netrc file found, creating one.\n",
            "\u001b[34m\u001b[1mwandb\u001b[0m: Appending key for api.wandb.ai to your netrc file: /root/.netrc\n",
            "\u001b[34m\u001b[1mwandb\u001b[0m: Currently logged in as: \u001b[33mtanvirbhai-unofficial\u001b[0m (\u001b[33mtanvirbhai-unofficial-my-self-defense\u001b[0m) to \u001b[32mhttps://api.wandb.ai\u001b[0m. Use \u001b[1m`wandb login --relogin`\u001b[0m to force relogin\n"
          ]
        },
        {
          "output_type": "display_data",
          "data": {
            "text/plain": [
              "<IPython.core.display.HTML object>"
            ],
            "text/html": [
              "Tracking run with wandb version 0.21.0"
            ]
          },
          "metadata": {}
        },
        {
          "output_type": "display_data",
          "data": {
            "text/plain": [
              "<IPython.core.display.HTML object>"
            ],
            "text/html": [
              "Run data is saved locally in <code>/content/wandb/run-20250803_191241-uup688n1</code>"
            ]
          },
          "metadata": {}
        },
        {
          "output_type": "display_data",
          "data": {
            "text/plain": [
              "<IPython.core.display.HTML object>"
            ],
            "text/html": [
              "Syncing run <strong><a href='https://wandb.ai/tanvirbhai-unofficial-my-self-defense/huggingface/runs/uup688n1' target=\"_blank\">./results</a></strong> to <a href='https://wandb.ai/tanvirbhai-unofficial-my-self-defense/huggingface' target=\"_blank\">Weights & Biases</a> (<a href='https://wandb.me/developer-guide' target=\"_blank\">docs</a>)<br>"
            ]
          },
          "metadata": {}
        },
        {
          "output_type": "display_data",
          "data": {
            "text/plain": [
              "<IPython.core.display.HTML object>"
            ],
            "text/html": [
              " View project at <a href='https://wandb.ai/tanvirbhai-unofficial-my-self-defense/huggingface' target=\"_blank\">https://wandb.ai/tanvirbhai-unofficial-my-self-defense/huggingface</a>"
            ]
          },
          "metadata": {}
        },
        {
          "output_type": "display_data",
          "data": {
            "text/plain": [
              "<IPython.core.display.HTML object>"
            ],
            "text/html": [
              " View run at <a href='https://wandb.ai/tanvirbhai-unofficial-my-self-defense/huggingface/runs/uup688n1' target=\"_blank\">https://wandb.ai/tanvirbhai-unofficial-my-self-defense/huggingface/runs/uup688n1</a>"
            ]
          },
          "metadata": {}
        },
        {
          "output_type": "stream",
          "name": "stderr",
          "text": [
            "/usr/local/lib/python3.11/dist-packages/torch/nn/modules/module.py:1750: FutureWarning: `encoder_attention_mask` is deprecated and will be removed in version 4.55.0 for `BertSdpaSelfAttention.forward`.\n",
            "  return forward_call(*args, **kwargs)\n"
          ]
        },
        {
          "output_type": "display_data",
          "data": {
            "text/plain": [
              "<IPython.core.display.HTML object>"
            ],
            "text/html": [
              "\n",
              "    <div>\n",
              "      \n",
              "      <progress value='3540' max='3540' style='width:300px; height:20px; vertical-align: middle;'></progress>\n",
              "      [3540/3540 19:31, Epoch 20/20]\n",
              "    </div>\n",
              "    <table border=\"1\" class=\"dataframe\">\n",
              "  <thead>\n",
              " <tr style=\"text-align: left;\">\n",
              "      <th>Epoch</th>\n",
              "      <th>Training Loss</th>\n",
              "      <th>Validation Loss</th>\n",
              "      <th>Accuracy</th>\n",
              "      <th>F1 Macro</th>\n",
              "    </tr>\n",
              "  </thead>\n",
              "  <tbody>\n",
              "    <tr>\n",
              "      <td>1</td>\n",
              "      <td>No log</td>\n",
              "      <td>1.216801</td>\n",
              "      <td>0.487252</td>\n",
              "      <td>0.476693</td>\n",
              "    </tr>\n",
              "    <tr>\n",
              "      <td>2</td>\n",
              "      <td>No log</td>\n",
              "      <td>1.081259</td>\n",
              "      <td>0.572238</td>\n",
              "      <td>0.574246</td>\n",
              "    </tr>\n",
              "    <tr>\n",
              "      <td>3</td>\n",
              "      <td>0.985000</td>\n",
              "      <td>1.190683</td>\n",
              "      <td>0.586402</td>\n",
              "      <td>0.590659</td>\n",
              "    </tr>\n",
              "    <tr>\n",
              "      <td>4</td>\n",
              "      <td>0.985000</td>\n",
              "      <td>1.276401</td>\n",
              "      <td>0.611898</td>\n",
              "      <td>0.615883</td>\n",
              "    </tr>\n",
              "    <tr>\n",
              "      <td>5</td>\n",
              "      <td>0.985000</td>\n",
              "      <td>1.479283</td>\n",
              "      <td>0.577904</td>\n",
              "      <td>0.575272</td>\n",
              "    </tr>\n",
              "    <tr>\n",
              "      <td>6</td>\n",
              "      <td>0.419800</td>\n",
              "      <td>1.548123</td>\n",
              "      <td>0.589235</td>\n",
              "      <td>0.594041</td>\n",
              "    </tr>\n",
              "    <tr>\n",
              "      <td>7</td>\n",
              "      <td>0.419800</td>\n",
              "      <td>1.737350</td>\n",
              "      <td>0.583569</td>\n",
              "      <td>0.586849</td>\n",
              "    </tr>\n",
              "    <tr>\n",
              "      <td>8</td>\n",
              "      <td>0.419800</td>\n",
              "      <td>1.809269</td>\n",
              "      <td>0.600567</td>\n",
              "      <td>0.603954</td>\n",
              "    </tr>\n",
              "    <tr>\n",
              "      <td>9</td>\n",
              "      <td>0.331900</td>\n",
              "      <td>1.916516</td>\n",
              "      <td>0.586402</td>\n",
              "      <td>0.589376</td>\n",
              "    </tr>\n",
              "    <tr>\n",
              "      <td>10</td>\n",
              "      <td>0.331900</td>\n",
              "      <td>1.899297</td>\n",
              "      <td>0.583569</td>\n",
              "      <td>0.588148</td>\n",
              "    </tr>\n",
              "    <tr>\n",
              "      <td>11</td>\n",
              "      <td>0.331900</td>\n",
              "      <td>1.852934</td>\n",
              "      <td>0.597734</td>\n",
              "      <td>0.601103</td>\n",
              "    </tr>\n",
              "    <tr>\n",
              "      <td>12</td>\n",
              "      <td>0.255600</td>\n",
              "      <td>2.041186</td>\n",
              "      <td>0.597734</td>\n",
              "      <td>0.601122</td>\n",
              "    </tr>\n",
              "    <tr>\n",
              "      <td>13</td>\n",
              "      <td>0.255600</td>\n",
              "      <td>1.973322</td>\n",
              "      <td>0.611898</td>\n",
              "      <td>0.614525</td>\n",
              "    </tr>\n",
              "    <tr>\n",
              "      <td>14</td>\n",
              "      <td>0.255600</td>\n",
              "      <td>2.064309</td>\n",
              "      <td>0.609065</td>\n",
              "      <td>0.611270</td>\n",
              "    </tr>\n",
              "    <tr>\n",
              "      <td>15</td>\n",
              "      <td>0.214300</td>\n",
              "      <td>2.145147</td>\n",
              "      <td>0.614731</td>\n",
              "      <td>0.615698</td>\n",
              "    </tr>\n",
              "    <tr>\n",
              "      <td>16</td>\n",
              "      <td>0.214300</td>\n",
              "      <td>2.184887</td>\n",
              "      <td>0.594901</td>\n",
              "      <td>0.598403</td>\n",
              "    </tr>\n",
              "    <tr>\n",
              "      <td>17</td>\n",
              "      <td>0.183200</td>\n",
              "      <td>2.190911</td>\n",
              "      <td>0.609065</td>\n",
              "      <td>0.610919</td>\n",
              "    </tr>\n",
              "    <tr>\n",
              "      <td>18</td>\n",
              "      <td>0.183200</td>\n",
              "      <td>2.215627</td>\n",
              "      <td>0.603399</td>\n",
              "      <td>0.606468</td>\n",
              "    </tr>\n",
              "    <tr>\n",
              "      <td>19</td>\n",
              "      <td>0.183200</td>\n",
              "      <td>2.262719</td>\n",
              "      <td>0.611898</td>\n",
              "      <td>0.613880</td>\n",
              "    </tr>\n",
              "    <tr>\n",
              "      <td>20</td>\n",
              "      <td>0.161000</td>\n",
              "      <td>2.292054</td>\n",
              "      <td>0.611898</td>\n",
              "      <td>0.614234</td>\n",
              "    </tr>\n",
              "  </tbody>\n",
              "</table><p>"
            ]
          },
          "metadata": {}
        },
        {
          "output_type": "stream",
          "name": "stdout",
          "text": [
            "Pred object: <transformers.trainer_utils.EvalPrediction object at 0x7a596a87bc50>\n",
            "Pred label_ids: [1 3 0 4 3 4 3 3 4 3 3 2 3 3 2 3 2 3 2 1 2 1 1 4 4 3 0 0 4 0 4 2 2 4 1 1 1\n",
            " 4 4 1 1 3 2 2 0 4 0 2 2 2 4 0 4 1 1 0 3 1 2 3 3 1 4 0 4 0 0 4 2 2 2 4 1 1\n",
            " 0 4 3 3 2 0 0 4 0 0 0 1 3 1 0 0 4 1 2 1 1 0 3 3 4 3 4 0 1 4 2 2 2 0 2 2 0\n",
            " 4 4 3 1 1 1 3 0 1 4 0 3 3 3 0 4 2 2 2 3 1 4 3 1 4 2 3 1 0 3 2 3 3 1 4 1 0\n",
            " 1 3 2 1 2 0 0 0 0 3 2 2 1 3 0 0 2 4 1 3 4 3 2 3 4 0 4 0 3 3 0 2 1 4 4 0 2\n",
            " 2 2 1 3 3 0 2 1 1 3 1 1 0 0 4 3 1 3 3 3 1 0 1 2 3 1 0 1 3 2 1 4 2 0 0 0 1\n",
            " 2 4 4 3 1 0 3 4 0 3 1 1 0 1 1 4 0 3 4 3 2 4 4 1 0 0 0 4 3 3 2 4 3 4 4 2 0\n",
            " 3 0 4 0 2 1 2 0 1 4 2 2 0 2 0 2 0 4 2 1 4 2 0 1 0 0 4 2 2 2 4 2 0 1 1 1 4\n",
            " 1 3 4 4 3 3 4 0 0 3 4 3 3 1 4 4 2 1 0 1 2 4 3 0 0 2 1 0 2 3 4 2 1 4 3 0 2\n",
            " 3 4 3 1 1 3 2 1 1 2 4 2 4 4 2 2 3 2 4 2]\n",
            "Labels unique values: [0 1 2 3 4]\n",
            "Preds unique values: [0 1 2 3 4]\n",
            "Labels dtype: int64\n",
            "Preds dtype: int64\n"
          ]
        },
        {
          "output_type": "stream",
          "name": "stderr",
          "text": [
            "/usr/local/lib/python3.11/dist-packages/torch/nn/modules/module.py:1750: FutureWarning: `encoder_attention_mask` is deprecated and will be removed in version 4.55.0 for `BertSdpaSelfAttention.forward`.\n",
            "  return forward_call(*args, **kwargs)\n"
          ]
        },
        {
          "output_type": "stream",
          "name": "stdout",
          "text": [
            "Pred object: <transformers.trainer_utils.EvalPrediction object at 0x7a59889febd0>\n",
            "Pred label_ids: [1 3 0 4 3 4 3 3 4 3 3 2 3 3 2 3 2 3 2 1 2 1 1 4 4 3 0 0 4 0 4 2 2 4 1 1 1\n",
            " 4 4 1 1 3 2 2 0 4 0 2 2 2 4 0 4 1 1 0 3 1 2 3 3 1 4 0 4 0 0 4 2 2 2 4 1 1\n",
            " 0 4 3 3 2 0 0 4 0 0 0 1 3 1 0 0 4 1 2 1 1 0 3 3 4 3 4 0 1 4 2 2 2 0 2 2 0\n",
            " 4 4 3 1 1 1 3 0 1 4 0 3 3 3 0 4 2 2 2 3 1 4 3 1 4 2 3 1 0 3 2 3 3 1 4 1 0\n",
            " 1 3 2 1 2 0 0 0 0 3 2 2 1 3 0 0 2 4 1 3 4 3 2 3 4 0 4 0 3 3 0 2 1 4 4 0 2\n",
            " 2 2 1 3 3 0 2 1 1 3 1 1 0 0 4 3 1 3 3 3 1 0 1 2 3 1 0 1 3 2 1 4 2 0 0 0 1\n",
            " 2 4 4 3 1 0 3 4 0 3 1 1 0 1 1 4 0 3 4 3 2 4 4 1 0 0 0 4 3 3 2 4 3 4 4 2 0\n",
            " 3 0 4 0 2 1 2 0 1 4 2 2 0 2 0 2 0 4 2 1 4 2 0 1 0 0 4 2 2 2 4 2 0 1 1 1 4\n",
            " 1 3 4 4 3 3 4 0 0 3 4 3 3 1 4 4 2 1 0 1 2 4 3 0 0 2 1 0 2 3 4 2 1 4 3 0 2\n",
            " 3 4 3 1 1 3 2 1 1 2 4 2 4 4 2 2 3 2 4 2]\n",
            "Labels unique values: [0 1 2 3 4]\n",
            "Preds unique values: [0 1 2 3 4]\n",
            "Labels dtype: int64\n",
            "Preds dtype: int64\n"
          ]
        },
        {
          "output_type": "stream",
          "name": "stderr",
          "text": [
            "/usr/local/lib/python3.11/dist-packages/torch/nn/modules/module.py:1750: FutureWarning: `encoder_attention_mask` is deprecated and will be removed in version 4.55.0 for `BertSdpaSelfAttention.forward`.\n",
            "  return forward_call(*args, **kwargs)\n"
          ]
        },
        {
          "output_type": "stream",
          "name": "stdout",
          "text": [
            "Pred object: <transformers.trainer_utils.EvalPrediction object at 0x7a5988aa5990>\n",
            "Pred label_ids: [1 3 0 4 3 4 3 3 4 3 3 2 3 3 2 3 2 3 2 1 2 1 1 4 4 3 0 0 4 0 4 2 2 4 1 1 1\n",
            " 4 4 1 1 3 2 2 0 4 0 2 2 2 4 0 4 1 1 0 3 1 2 3 3 1 4 0 4 0 0 4 2 2 2 4 1 1\n",
            " 0 4 3 3 2 0 0 4 0 0 0 1 3 1 0 0 4 1 2 1 1 0 3 3 4 3 4 0 1 4 2 2 2 0 2 2 0\n",
            " 4 4 3 1 1 1 3 0 1 4 0 3 3 3 0 4 2 2 2 3 1 4 3 1 4 2 3 1 0 3 2 3 3 1 4 1 0\n",
            " 1 3 2 1 2 0 0 0 0 3 2 2 1 3 0 0 2 4 1 3 4 3 2 3 4 0 4 0 3 3 0 2 1 4 4 0 2\n",
            " 2 2 1 3 3 0 2 1 1 3 1 1 0 0 4 3 1 3 3 3 1 0 1 2 3 1 0 1 3 2 1 4 2 0 0 0 1\n",
            " 2 4 4 3 1 0 3 4 0 3 1 1 0 1 1 4 0 3 4 3 2 4 4 1 0 0 0 4 3 3 2 4 3 4 4 2 0\n",
            " 3 0 4 0 2 1 2 0 1 4 2 2 0 2 0 2 0 4 2 1 4 2 0 1 0 0 4 2 2 2 4 2 0 1 1 1 4\n",
            " 1 3 4 4 3 3 4 0 0 3 4 3 3 1 4 4 2 1 0 1 2 4 3 0 0 2 1 0 2 3 4 2 1 4 3 0 2\n",
            " 3 4 3 1 1 3 2 1 1 2 4 2 4 4 2 2 3 2 4 2]\n",
            "Labels unique values: [0 1 2 3 4]\n",
            "Preds unique values: [0 1 2 3 4]\n",
            "Labels dtype: int64\n",
            "Preds dtype: int64\n"
          ]
        },
        {
          "output_type": "stream",
          "name": "stderr",
          "text": [
            "/usr/local/lib/python3.11/dist-packages/torch/nn/modules/module.py:1750: FutureWarning: `encoder_attention_mask` is deprecated and will be removed in version 4.55.0 for `BertSdpaSelfAttention.forward`.\n",
            "  return forward_call(*args, **kwargs)\n"
          ]
        },
        {
          "output_type": "stream",
          "name": "stdout",
          "text": [
            "Pred object: <transformers.trainer_utils.EvalPrediction object at 0x7a5988a738d0>\n",
            "Pred label_ids: [1 3 0 4 3 4 3 3 4 3 3 2 3 3 2 3 2 3 2 1 2 1 1 4 4 3 0 0 4 0 4 2 2 4 1 1 1\n",
            " 4 4 1 1 3 2 2 0 4 0 2 2 2 4 0 4 1 1 0 3 1 2 3 3 1 4 0 4 0 0 4 2 2 2 4 1 1\n",
            " 0 4 3 3 2 0 0 4 0 0 0 1 3 1 0 0 4 1 2 1 1 0 3 3 4 3 4 0 1 4 2 2 2 0 2 2 0\n",
            " 4 4 3 1 1 1 3 0 1 4 0 3 3 3 0 4 2 2 2 3 1 4 3 1 4 2 3 1 0 3 2 3 3 1 4 1 0\n",
            " 1 3 2 1 2 0 0 0 0 3 2 2 1 3 0 0 2 4 1 3 4 3 2 3 4 0 4 0 3 3 0 2 1 4 4 0 2\n",
            " 2 2 1 3 3 0 2 1 1 3 1 1 0 0 4 3 1 3 3 3 1 0 1 2 3 1 0 1 3 2 1 4 2 0 0 0 1\n",
            " 2 4 4 3 1 0 3 4 0 3 1 1 0 1 1 4 0 3 4 3 2 4 4 1 0 0 0 4 3 3 2 4 3 4 4 2 0\n",
            " 3 0 4 0 2 1 2 0 1 4 2 2 0 2 0 2 0 4 2 1 4 2 0 1 0 0 4 2 2 2 4 2 0 1 1 1 4\n",
            " 1 3 4 4 3 3 4 0 0 3 4 3 3 1 4 4 2 1 0 1 2 4 3 0 0 2 1 0 2 3 4 2 1 4 3 0 2\n",
            " 3 4 3 1 1 3 2 1 1 2 4 2 4 4 2 2 3 2 4 2]\n",
            "Labels unique values: [0 1 2 3 4]\n",
            "Preds unique values: [0 1 2 3 4]\n",
            "Labels dtype: int64\n",
            "Preds dtype: int64\n"
          ]
        },
        {
          "output_type": "stream",
          "name": "stderr",
          "text": [
            "/usr/local/lib/python3.11/dist-packages/torch/nn/modules/module.py:1750: FutureWarning: `encoder_attention_mask` is deprecated and will be removed in version 4.55.0 for `BertSdpaSelfAttention.forward`.\n",
            "  return forward_call(*args, **kwargs)\n"
          ]
        },
        {
          "output_type": "stream",
          "name": "stdout",
          "text": [
            "Pred object: <transformers.trainer_utils.EvalPrediction object at 0x7a5988a12b50>\n",
            "Pred label_ids: [1 3 0 4 3 4 3 3 4 3 3 2 3 3 2 3 2 3 2 1 2 1 1 4 4 3 0 0 4 0 4 2 2 4 1 1 1\n",
            " 4 4 1 1 3 2 2 0 4 0 2 2 2 4 0 4 1 1 0 3 1 2 3 3 1 4 0 4 0 0 4 2 2 2 4 1 1\n",
            " 0 4 3 3 2 0 0 4 0 0 0 1 3 1 0 0 4 1 2 1 1 0 3 3 4 3 4 0 1 4 2 2 2 0 2 2 0\n",
            " 4 4 3 1 1 1 3 0 1 4 0 3 3 3 0 4 2 2 2 3 1 4 3 1 4 2 3 1 0 3 2 3 3 1 4 1 0\n",
            " 1 3 2 1 2 0 0 0 0 3 2 2 1 3 0 0 2 4 1 3 4 3 2 3 4 0 4 0 3 3 0 2 1 4 4 0 2\n",
            " 2 2 1 3 3 0 2 1 1 3 1 1 0 0 4 3 1 3 3 3 1 0 1 2 3 1 0 1 3 2 1 4 2 0 0 0 1\n",
            " 2 4 4 3 1 0 3 4 0 3 1 1 0 1 1 4 0 3 4 3 2 4 4 1 0 0 0 4 3 3 2 4 3 4 4 2 0\n",
            " 3 0 4 0 2 1 2 0 1 4 2 2 0 2 0 2 0 4 2 1 4 2 0 1 0 0 4 2 2 2 4 2 0 1 1 1 4\n",
            " 1 3 4 4 3 3 4 0 0 3 4 3 3 1 4 4 2 1 0 1 2 4 3 0 0 2 1 0 2 3 4 2 1 4 3 0 2\n",
            " 3 4 3 1 1 3 2 1 1 2 4 2 4 4 2 2 3 2 4 2]\n",
            "Labels unique values: [0 1 2 3 4]\n",
            "Preds unique values: [0 1 2 3 4]\n",
            "Labels dtype: int64\n",
            "Preds dtype: int64\n"
          ]
        },
        {
          "output_type": "stream",
          "name": "stderr",
          "text": [
            "/usr/local/lib/python3.11/dist-packages/torch/nn/modules/module.py:1750: FutureWarning: `encoder_attention_mask` is deprecated and will be removed in version 4.55.0 for `BertSdpaSelfAttention.forward`.\n",
            "  return forward_call(*args, **kwargs)\n"
          ]
        },
        {
          "output_type": "stream",
          "name": "stdout",
          "text": [
            "Pred object: <transformers.trainer_utils.EvalPrediction object at 0x7a5988a5a8d0>\n",
            "Pred label_ids: [1 3 0 4 3 4 3 3 4 3 3 2 3 3 2 3 2 3 2 1 2 1 1 4 4 3 0 0 4 0 4 2 2 4 1 1 1\n",
            " 4 4 1 1 3 2 2 0 4 0 2 2 2 4 0 4 1 1 0 3 1 2 3 3 1 4 0 4 0 0 4 2 2 2 4 1 1\n",
            " 0 4 3 3 2 0 0 4 0 0 0 1 3 1 0 0 4 1 2 1 1 0 3 3 4 3 4 0 1 4 2 2 2 0 2 2 0\n",
            " 4 4 3 1 1 1 3 0 1 4 0 3 3 3 0 4 2 2 2 3 1 4 3 1 4 2 3 1 0 3 2 3 3 1 4 1 0\n",
            " 1 3 2 1 2 0 0 0 0 3 2 2 1 3 0 0 2 4 1 3 4 3 2 3 4 0 4 0 3 3 0 2 1 4 4 0 2\n",
            " 2 2 1 3 3 0 2 1 1 3 1 1 0 0 4 3 1 3 3 3 1 0 1 2 3 1 0 1 3 2 1 4 2 0 0 0 1\n",
            " 2 4 4 3 1 0 3 4 0 3 1 1 0 1 1 4 0 3 4 3 2 4 4 1 0 0 0 4 3 3 2 4 3 4 4 2 0\n",
            " 3 0 4 0 2 1 2 0 1 4 2 2 0 2 0 2 0 4 2 1 4 2 0 1 0 0 4 2 2 2 4 2 0 1 1 1 4\n",
            " 1 3 4 4 3 3 4 0 0 3 4 3 3 1 4 4 2 1 0 1 2 4 3 0 0 2 1 0 2 3 4 2 1 4 3 0 2\n",
            " 3 4 3 1 1 3 2 1 1 2 4 2 4 4 2 2 3 2 4 2]\n",
            "Labels unique values: [0 1 2 3 4]\n",
            "Preds unique values: [0 1 2 3 4]\n",
            "Labels dtype: int64\n",
            "Preds dtype: int64\n"
          ]
        },
        {
          "output_type": "stream",
          "name": "stderr",
          "text": [
            "/usr/local/lib/python3.11/dist-packages/torch/nn/modules/module.py:1750: FutureWarning: `encoder_attention_mask` is deprecated and will be removed in version 4.55.0 for `BertSdpaSelfAttention.forward`.\n",
            "  return forward_call(*args, **kwargs)\n"
          ]
        },
        {
          "output_type": "stream",
          "name": "stdout",
          "text": [
            "Pred object: <transformers.trainer_utils.EvalPrediction object at 0x7a59888f3c90>\n",
            "Pred label_ids: [1 3 0 4 3 4 3 3 4 3 3 2 3 3 2 3 2 3 2 1 2 1 1 4 4 3 0 0 4 0 4 2 2 4 1 1 1\n",
            " 4 4 1 1 3 2 2 0 4 0 2 2 2 4 0 4 1 1 0 3 1 2 3 3 1 4 0 4 0 0 4 2 2 2 4 1 1\n",
            " 0 4 3 3 2 0 0 4 0 0 0 1 3 1 0 0 4 1 2 1 1 0 3 3 4 3 4 0 1 4 2 2 2 0 2 2 0\n",
            " 4 4 3 1 1 1 3 0 1 4 0 3 3 3 0 4 2 2 2 3 1 4 3 1 4 2 3 1 0 3 2 3 3 1 4 1 0\n",
            " 1 3 2 1 2 0 0 0 0 3 2 2 1 3 0 0 2 4 1 3 4 3 2 3 4 0 4 0 3 3 0 2 1 4 4 0 2\n",
            " 2 2 1 3 3 0 2 1 1 3 1 1 0 0 4 3 1 3 3 3 1 0 1 2 3 1 0 1 3 2 1 4 2 0 0 0 1\n",
            " 2 4 4 3 1 0 3 4 0 3 1 1 0 1 1 4 0 3 4 3 2 4 4 1 0 0 0 4 3 3 2 4 3 4 4 2 0\n",
            " 3 0 4 0 2 1 2 0 1 4 2 2 0 2 0 2 0 4 2 1 4 2 0 1 0 0 4 2 2 2 4 2 0 1 1 1 4\n",
            " 1 3 4 4 3 3 4 0 0 3 4 3 3 1 4 4 2 1 0 1 2 4 3 0 0 2 1 0 2 3 4 2 1 4 3 0 2\n",
            " 3 4 3 1 1 3 2 1 1 2 4 2 4 4 2 2 3 2 4 2]\n",
            "Labels unique values: [0 1 2 3 4]\n",
            "Preds unique values: [0 1 2 3 4]\n",
            "Labels dtype: int64\n",
            "Preds dtype: int64\n"
          ]
        },
        {
          "output_type": "stream",
          "name": "stderr",
          "text": [
            "/usr/local/lib/python3.11/dist-packages/torch/nn/modules/module.py:1750: FutureWarning: `encoder_attention_mask` is deprecated and will be removed in version 4.55.0 for `BertSdpaSelfAttention.forward`.\n",
            "  return forward_call(*args, **kwargs)\n"
          ]
        },
        {
          "output_type": "stream",
          "name": "stdout",
          "text": [
            "Pred object: <transformers.trainer_utils.EvalPrediction object at 0x7a59889031d0>\n",
            "Pred label_ids: [1 3 0 4 3 4 3 3 4 3 3 2 3 3 2 3 2 3 2 1 2 1 1 4 4 3 0 0 4 0 4 2 2 4 1 1 1\n",
            " 4 4 1 1 3 2 2 0 4 0 2 2 2 4 0 4 1 1 0 3 1 2 3 3 1 4 0 4 0 0 4 2 2 2 4 1 1\n",
            " 0 4 3 3 2 0 0 4 0 0 0 1 3 1 0 0 4 1 2 1 1 0 3 3 4 3 4 0 1 4 2 2 2 0 2 2 0\n",
            " 4 4 3 1 1 1 3 0 1 4 0 3 3 3 0 4 2 2 2 3 1 4 3 1 4 2 3 1 0 3 2 3 3 1 4 1 0\n",
            " 1 3 2 1 2 0 0 0 0 3 2 2 1 3 0 0 2 4 1 3 4 3 2 3 4 0 4 0 3 3 0 2 1 4 4 0 2\n",
            " 2 2 1 3 3 0 2 1 1 3 1 1 0 0 4 3 1 3 3 3 1 0 1 2 3 1 0 1 3 2 1 4 2 0 0 0 1\n",
            " 2 4 4 3 1 0 3 4 0 3 1 1 0 1 1 4 0 3 4 3 2 4 4 1 0 0 0 4 3 3 2 4 3 4 4 2 0\n",
            " 3 0 4 0 2 1 2 0 1 4 2 2 0 2 0 2 0 4 2 1 4 2 0 1 0 0 4 2 2 2 4 2 0 1 1 1 4\n",
            " 1 3 4 4 3 3 4 0 0 3 4 3 3 1 4 4 2 1 0 1 2 4 3 0 0 2 1 0 2 3 4 2 1 4 3 0 2\n",
            " 3 4 3 1 1 3 2 1 1 2 4 2 4 4 2 2 3 2 4 2]\n",
            "Labels unique values: [0 1 2 3 4]\n",
            "Preds unique values: [0 1 2 3 4]\n",
            "Labels dtype: int64\n",
            "Preds dtype: int64\n"
          ]
        },
        {
          "output_type": "stream",
          "name": "stderr",
          "text": [
            "/usr/local/lib/python3.11/dist-packages/torch/nn/modules/module.py:1750: FutureWarning: `encoder_attention_mask` is deprecated and will be removed in version 4.55.0 for `BertSdpaSelfAttention.forward`.\n",
            "  return forward_call(*args, **kwargs)\n"
          ]
        },
        {
          "output_type": "stream",
          "name": "stdout",
          "text": [
            "Pred object: <transformers.trainer_utils.EvalPrediction object at 0x7a59889d20d0>\n",
            "Pred label_ids: [1 3 0 4 3 4 3 3 4 3 3 2 3 3 2 3 2 3 2 1 2 1 1 4 4 3 0 0 4 0 4 2 2 4 1 1 1\n",
            " 4 4 1 1 3 2 2 0 4 0 2 2 2 4 0 4 1 1 0 3 1 2 3 3 1 4 0 4 0 0 4 2 2 2 4 1 1\n",
            " 0 4 3 3 2 0 0 4 0 0 0 1 3 1 0 0 4 1 2 1 1 0 3 3 4 3 4 0 1 4 2 2 2 0 2 2 0\n",
            " 4 4 3 1 1 1 3 0 1 4 0 3 3 3 0 4 2 2 2 3 1 4 3 1 4 2 3 1 0 3 2 3 3 1 4 1 0\n",
            " 1 3 2 1 2 0 0 0 0 3 2 2 1 3 0 0 2 4 1 3 4 3 2 3 4 0 4 0 3 3 0 2 1 4 4 0 2\n",
            " 2 2 1 3 3 0 2 1 1 3 1 1 0 0 4 3 1 3 3 3 1 0 1 2 3 1 0 1 3 2 1 4 2 0 0 0 1\n",
            " 2 4 4 3 1 0 3 4 0 3 1 1 0 1 1 4 0 3 4 3 2 4 4 1 0 0 0 4 3 3 2 4 3 4 4 2 0\n",
            " 3 0 4 0 2 1 2 0 1 4 2 2 0 2 0 2 0 4 2 1 4 2 0 1 0 0 4 2 2 2 4 2 0 1 1 1 4\n",
            " 1 3 4 4 3 3 4 0 0 3 4 3 3 1 4 4 2 1 0 1 2 4 3 0 0 2 1 0 2 3 4 2 1 4 3 0 2\n",
            " 3 4 3 1 1 3 2 1 1 2 4 2 4 4 2 2 3 2 4 2]\n",
            "Labels unique values: [0 1 2 3 4]\n",
            "Preds unique values: [0 1 2 3 4]\n",
            "Labels dtype: int64\n",
            "Preds dtype: int64\n"
          ]
        },
        {
          "output_type": "stream",
          "name": "stderr",
          "text": [
            "/usr/local/lib/python3.11/dist-packages/torch/nn/modules/module.py:1750: FutureWarning: `encoder_attention_mask` is deprecated and will be removed in version 4.55.0 for `BertSdpaSelfAttention.forward`.\n",
            "  return forward_call(*args, **kwargs)\n"
          ]
        },
        {
          "output_type": "stream",
          "name": "stdout",
          "text": [
            "Pred object: <transformers.trainer_utils.EvalPrediction object at 0x7a5988a9f790>\n",
            "Pred label_ids: [1 3 0 4 3 4 3 3 4 3 3 2 3 3 2 3 2 3 2 1 2 1 1 4 4 3 0 0 4 0 4 2 2 4 1 1 1\n",
            " 4 4 1 1 3 2 2 0 4 0 2 2 2 4 0 4 1 1 0 3 1 2 3 3 1 4 0 4 0 0 4 2 2 2 4 1 1\n",
            " 0 4 3 3 2 0 0 4 0 0 0 1 3 1 0 0 4 1 2 1 1 0 3 3 4 3 4 0 1 4 2 2 2 0 2 2 0\n",
            " 4 4 3 1 1 1 3 0 1 4 0 3 3 3 0 4 2 2 2 3 1 4 3 1 4 2 3 1 0 3 2 3 3 1 4 1 0\n",
            " 1 3 2 1 2 0 0 0 0 3 2 2 1 3 0 0 2 4 1 3 4 3 2 3 4 0 4 0 3 3 0 2 1 4 4 0 2\n",
            " 2 2 1 3 3 0 2 1 1 3 1 1 0 0 4 3 1 3 3 3 1 0 1 2 3 1 0 1 3 2 1 4 2 0 0 0 1\n",
            " 2 4 4 3 1 0 3 4 0 3 1 1 0 1 1 4 0 3 4 3 2 4 4 1 0 0 0 4 3 3 2 4 3 4 4 2 0\n",
            " 3 0 4 0 2 1 2 0 1 4 2 2 0 2 0 2 0 4 2 1 4 2 0 1 0 0 4 2 2 2 4 2 0 1 1 1 4\n",
            " 1 3 4 4 3 3 4 0 0 3 4 3 3 1 4 4 2 1 0 1 2 4 3 0 0 2 1 0 2 3 4 2 1 4 3 0 2\n",
            " 3 4 3 1 1 3 2 1 1 2 4 2 4 4 2 2 3 2 4 2]\n",
            "Labels unique values: [0 1 2 3 4]\n",
            "Preds unique values: [0 1 2 3 4]\n",
            "Labels dtype: int64\n",
            "Preds dtype: int64\n"
          ]
        },
        {
          "output_type": "stream",
          "name": "stderr",
          "text": [
            "/usr/local/lib/python3.11/dist-packages/torch/nn/modules/module.py:1750: FutureWarning: `encoder_attention_mask` is deprecated and will be removed in version 4.55.0 for `BertSdpaSelfAttention.forward`.\n",
            "  return forward_call(*args, **kwargs)\n"
          ]
        },
        {
          "output_type": "stream",
          "name": "stdout",
          "text": [
            "Pred object: <transformers.trainer_utils.EvalPrediction object at 0x7a59889cc2d0>\n",
            "Pred label_ids: [1 3 0 4 3 4 3 3 4 3 3 2 3 3 2 3 2 3 2 1 2 1 1 4 4 3 0 0 4 0 4 2 2 4 1 1 1\n",
            " 4 4 1 1 3 2 2 0 4 0 2 2 2 4 0 4 1 1 0 3 1 2 3 3 1 4 0 4 0 0 4 2 2 2 4 1 1\n",
            " 0 4 3 3 2 0 0 4 0 0 0 1 3 1 0 0 4 1 2 1 1 0 3 3 4 3 4 0 1 4 2 2 2 0 2 2 0\n",
            " 4 4 3 1 1 1 3 0 1 4 0 3 3 3 0 4 2 2 2 3 1 4 3 1 4 2 3 1 0 3 2 3 3 1 4 1 0\n",
            " 1 3 2 1 2 0 0 0 0 3 2 2 1 3 0 0 2 4 1 3 4 3 2 3 4 0 4 0 3 3 0 2 1 4 4 0 2\n",
            " 2 2 1 3 3 0 2 1 1 3 1 1 0 0 4 3 1 3 3 3 1 0 1 2 3 1 0 1 3 2 1 4 2 0 0 0 1\n",
            " 2 4 4 3 1 0 3 4 0 3 1 1 0 1 1 4 0 3 4 3 2 4 4 1 0 0 0 4 3 3 2 4 3 4 4 2 0\n",
            " 3 0 4 0 2 1 2 0 1 4 2 2 0 2 0 2 0 4 2 1 4 2 0 1 0 0 4 2 2 2 4 2 0 1 1 1 4\n",
            " 1 3 4 4 3 3 4 0 0 3 4 3 3 1 4 4 2 1 0 1 2 4 3 0 0 2 1 0 2 3 4 2 1 4 3 0 2\n",
            " 3 4 3 1 1 3 2 1 1 2 4 2 4 4 2 2 3 2 4 2]\n",
            "Labels unique values: [0 1 2 3 4]\n",
            "Preds unique values: [0 1 2 3 4]\n",
            "Labels dtype: int64\n",
            "Preds dtype: int64\n"
          ]
        },
        {
          "output_type": "stream",
          "name": "stderr",
          "text": [
            "/usr/local/lib/python3.11/dist-packages/torch/nn/modules/module.py:1750: FutureWarning: `encoder_attention_mask` is deprecated and will be removed in version 4.55.0 for `BertSdpaSelfAttention.forward`.\n",
            "  return forward_call(*args, **kwargs)\n"
          ]
        },
        {
          "output_type": "stream",
          "name": "stdout",
          "text": [
            "Pred object: <transformers.trainer_utils.EvalPrediction object at 0x7a5988803d90>\n",
            "Pred label_ids: [1 3 0 4 3 4 3 3 4 3 3 2 3 3 2 3 2 3 2 1 2 1 1 4 4 3 0 0 4 0 4 2 2 4 1 1 1\n",
            " 4 4 1 1 3 2 2 0 4 0 2 2 2 4 0 4 1 1 0 3 1 2 3 3 1 4 0 4 0 0 4 2 2 2 4 1 1\n",
            " 0 4 3 3 2 0 0 4 0 0 0 1 3 1 0 0 4 1 2 1 1 0 3 3 4 3 4 0 1 4 2 2 2 0 2 2 0\n",
            " 4 4 3 1 1 1 3 0 1 4 0 3 3 3 0 4 2 2 2 3 1 4 3 1 4 2 3 1 0 3 2 3 3 1 4 1 0\n",
            " 1 3 2 1 2 0 0 0 0 3 2 2 1 3 0 0 2 4 1 3 4 3 2 3 4 0 4 0 3 3 0 2 1 4 4 0 2\n",
            " 2 2 1 3 3 0 2 1 1 3 1 1 0 0 4 3 1 3 3 3 1 0 1 2 3 1 0 1 3 2 1 4 2 0 0 0 1\n",
            " 2 4 4 3 1 0 3 4 0 3 1 1 0 1 1 4 0 3 4 3 2 4 4 1 0 0 0 4 3 3 2 4 3 4 4 2 0\n",
            " 3 0 4 0 2 1 2 0 1 4 2 2 0 2 0 2 0 4 2 1 4 2 0 1 0 0 4 2 2 2 4 2 0 1 1 1 4\n",
            " 1 3 4 4 3 3 4 0 0 3 4 3 3 1 4 4 2 1 0 1 2 4 3 0 0 2 1 0 2 3 4 2 1 4 3 0 2\n",
            " 3 4 3 1 1 3 2 1 1 2 4 2 4 4 2 2 3 2 4 2]\n",
            "Labels unique values: [0 1 2 3 4]\n",
            "Preds unique values: [0 1 2 3 4]\n",
            "Labels dtype: int64\n",
            "Preds dtype: int64\n"
          ]
        },
        {
          "output_type": "stream",
          "name": "stderr",
          "text": [
            "/usr/local/lib/python3.11/dist-packages/torch/nn/modules/module.py:1750: FutureWarning: `encoder_attention_mask` is deprecated and will be removed in version 4.55.0 for `BertSdpaSelfAttention.forward`.\n",
            "  return forward_call(*args, **kwargs)\n"
          ]
        },
        {
          "output_type": "stream",
          "name": "stdout",
          "text": [
            "Pred object: <transformers.trainer_utils.EvalPrediction object at 0x7a598892b050>\n",
            "Pred label_ids: [1 3 0 4 3 4 3 3 4 3 3 2 3 3 2 3 2 3 2 1 2 1 1 4 4 3 0 0 4 0 4 2 2 4 1 1 1\n",
            " 4 4 1 1 3 2 2 0 4 0 2 2 2 4 0 4 1 1 0 3 1 2 3 3 1 4 0 4 0 0 4 2 2 2 4 1 1\n",
            " 0 4 3 3 2 0 0 4 0 0 0 1 3 1 0 0 4 1 2 1 1 0 3 3 4 3 4 0 1 4 2 2 2 0 2 2 0\n",
            " 4 4 3 1 1 1 3 0 1 4 0 3 3 3 0 4 2 2 2 3 1 4 3 1 4 2 3 1 0 3 2 3 3 1 4 1 0\n",
            " 1 3 2 1 2 0 0 0 0 3 2 2 1 3 0 0 2 4 1 3 4 3 2 3 4 0 4 0 3 3 0 2 1 4 4 0 2\n",
            " 2 2 1 3 3 0 2 1 1 3 1 1 0 0 4 3 1 3 3 3 1 0 1 2 3 1 0 1 3 2 1 4 2 0 0 0 1\n",
            " 2 4 4 3 1 0 3 4 0 3 1 1 0 1 1 4 0 3 4 3 2 4 4 1 0 0 0 4 3 3 2 4 3 4 4 2 0\n",
            " 3 0 4 0 2 1 2 0 1 4 2 2 0 2 0 2 0 4 2 1 4 2 0 1 0 0 4 2 2 2 4 2 0 1 1 1 4\n",
            " 1 3 4 4 3 3 4 0 0 3 4 3 3 1 4 4 2 1 0 1 2 4 3 0 0 2 1 0 2 3 4 2 1 4 3 0 2\n",
            " 3 4 3 1 1 3 2 1 1 2 4 2 4 4 2 2 3 2 4 2]\n",
            "Labels unique values: [0 1 2 3 4]\n",
            "Preds unique values: [0 1 2 3 4]\n",
            "Labels dtype: int64\n",
            "Preds dtype: int64\n"
          ]
        },
        {
          "output_type": "stream",
          "name": "stderr",
          "text": [
            "/usr/local/lib/python3.11/dist-packages/torch/nn/modules/module.py:1750: FutureWarning: `encoder_attention_mask` is deprecated and will be removed in version 4.55.0 for `BertSdpaSelfAttention.forward`.\n",
            "  return forward_call(*args, **kwargs)\n"
          ]
        },
        {
          "output_type": "stream",
          "name": "stdout",
          "text": [
            "Pred object: <transformers.trainer_utils.EvalPrediction object at 0x7a5988927350>\n",
            "Pred label_ids: [1 3 0 4 3 4 3 3 4 3 3 2 3 3 2 3 2 3 2 1 2 1 1 4 4 3 0 0 4 0 4 2 2 4 1 1 1\n",
            " 4 4 1 1 3 2 2 0 4 0 2 2 2 4 0 4 1 1 0 3 1 2 3 3 1 4 0 4 0 0 4 2 2 2 4 1 1\n",
            " 0 4 3 3 2 0 0 4 0 0 0 1 3 1 0 0 4 1 2 1 1 0 3 3 4 3 4 0 1 4 2 2 2 0 2 2 0\n",
            " 4 4 3 1 1 1 3 0 1 4 0 3 3 3 0 4 2 2 2 3 1 4 3 1 4 2 3 1 0 3 2 3 3 1 4 1 0\n",
            " 1 3 2 1 2 0 0 0 0 3 2 2 1 3 0 0 2 4 1 3 4 3 2 3 4 0 4 0 3 3 0 2 1 4 4 0 2\n",
            " 2 2 1 3 3 0 2 1 1 3 1 1 0 0 4 3 1 3 3 3 1 0 1 2 3 1 0 1 3 2 1 4 2 0 0 0 1\n",
            " 2 4 4 3 1 0 3 4 0 3 1 1 0 1 1 4 0 3 4 3 2 4 4 1 0 0 0 4 3 3 2 4 3 4 4 2 0\n",
            " 3 0 4 0 2 1 2 0 1 4 2 2 0 2 0 2 0 4 2 1 4 2 0 1 0 0 4 2 2 2 4 2 0 1 1 1 4\n",
            " 1 3 4 4 3 3 4 0 0 3 4 3 3 1 4 4 2 1 0 1 2 4 3 0 0 2 1 0 2 3 4 2 1 4 3 0 2\n",
            " 3 4 3 1 1 3 2 1 1 2 4 2 4 4 2 2 3 2 4 2]\n",
            "Labels unique values: [0 1 2 3 4]\n",
            "Preds unique values: [0 1 2 3 4]\n",
            "Labels dtype: int64\n",
            "Preds dtype: int64\n"
          ]
        },
        {
          "output_type": "stream",
          "name": "stderr",
          "text": [
            "/usr/local/lib/python3.11/dist-packages/torch/nn/modules/module.py:1750: FutureWarning: `encoder_attention_mask` is deprecated and will be removed in version 4.55.0 for `BertSdpaSelfAttention.forward`.\n",
            "  return forward_call(*args, **kwargs)\n"
          ]
        },
        {
          "output_type": "stream",
          "name": "stdout",
          "text": [
            "Pred object: <transformers.trainer_utils.EvalPrediction object at 0x7a5988832710>\n",
            "Pred label_ids: [1 3 0 4 3 4 3 3 4 3 3 2 3 3 2 3 2 3 2 1 2 1 1 4 4 3 0 0 4 0 4 2 2 4 1 1 1\n",
            " 4 4 1 1 3 2 2 0 4 0 2 2 2 4 0 4 1 1 0 3 1 2 3 3 1 4 0 4 0 0 4 2 2 2 4 1 1\n",
            " 0 4 3 3 2 0 0 4 0 0 0 1 3 1 0 0 4 1 2 1 1 0 3 3 4 3 4 0 1 4 2 2 2 0 2 2 0\n",
            " 4 4 3 1 1 1 3 0 1 4 0 3 3 3 0 4 2 2 2 3 1 4 3 1 4 2 3 1 0 3 2 3 3 1 4 1 0\n",
            " 1 3 2 1 2 0 0 0 0 3 2 2 1 3 0 0 2 4 1 3 4 3 2 3 4 0 4 0 3 3 0 2 1 4 4 0 2\n",
            " 2 2 1 3 3 0 2 1 1 3 1 1 0 0 4 3 1 3 3 3 1 0 1 2 3 1 0 1 3 2 1 4 2 0 0 0 1\n",
            " 2 4 4 3 1 0 3 4 0 3 1 1 0 1 1 4 0 3 4 3 2 4 4 1 0 0 0 4 3 3 2 4 3 4 4 2 0\n",
            " 3 0 4 0 2 1 2 0 1 4 2 2 0 2 0 2 0 4 2 1 4 2 0 1 0 0 4 2 2 2 4 2 0 1 1 1 4\n",
            " 1 3 4 4 3 3 4 0 0 3 4 3 3 1 4 4 2 1 0 1 2 4 3 0 0 2 1 0 2 3 4 2 1 4 3 0 2\n",
            " 3 4 3 1 1 3 2 1 1 2 4 2 4 4 2 2 3 2 4 2]\n",
            "Labels unique values: [0 1 2 3 4]\n",
            "Preds unique values: [0 1 2 3 4]\n",
            "Labels dtype: int64\n",
            "Preds dtype: int64\n"
          ]
        },
        {
          "output_type": "stream",
          "name": "stderr",
          "text": [
            "/usr/local/lib/python3.11/dist-packages/torch/nn/modules/module.py:1750: FutureWarning: `encoder_attention_mask` is deprecated and will be removed in version 4.55.0 for `BertSdpaSelfAttention.forward`.\n",
            "  return forward_call(*args, **kwargs)\n"
          ]
        },
        {
          "output_type": "stream",
          "name": "stdout",
          "text": [
            "Pred object: <transformers.trainer_utils.EvalPrediction object at 0x7a598897ce90>\n",
            "Pred label_ids: [1 3 0 4 3 4 3 3 4 3 3 2 3 3 2 3 2 3 2 1 2 1 1 4 4 3 0 0 4 0 4 2 2 4 1 1 1\n",
            " 4 4 1 1 3 2 2 0 4 0 2 2 2 4 0 4 1 1 0 3 1 2 3 3 1 4 0 4 0 0 4 2 2 2 4 1 1\n",
            " 0 4 3 3 2 0 0 4 0 0 0 1 3 1 0 0 4 1 2 1 1 0 3 3 4 3 4 0 1 4 2 2 2 0 2 2 0\n",
            " 4 4 3 1 1 1 3 0 1 4 0 3 3 3 0 4 2 2 2 3 1 4 3 1 4 2 3 1 0 3 2 3 3 1 4 1 0\n",
            " 1 3 2 1 2 0 0 0 0 3 2 2 1 3 0 0 2 4 1 3 4 3 2 3 4 0 4 0 3 3 0 2 1 4 4 0 2\n",
            " 2 2 1 3 3 0 2 1 1 3 1 1 0 0 4 3 1 3 3 3 1 0 1 2 3 1 0 1 3 2 1 4 2 0 0 0 1\n",
            " 2 4 4 3 1 0 3 4 0 3 1 1 0 1 1 4 0 3 4 3 2 4 4 1 0 0 0 4 3 3 2 4 3 4 4 2 0\n",
            " 3 0 4 0 2 1 2 0 1 4 2 2 0 2 0 2 0 4 2 1 4 2 0 1 0 0 4 2 2 2 4 2 0 1 1 1 4\n",
            " 1 3 4 4 3 3 4 0 0 3 4 3 3 1 4 4 2 1 0 1 2 4 3 0 0 2 1 0 2 3 4 2 1 4 3 0 2\n",
            " 3 4 3 1 1 3 2 1 1 2 4 2 4 4 2 2 3 2 4 2]\n",
            "Labels unique values: [0 1 2 3 4]\n",
            "Preds unique values: [0 1 2 3 4]\n",
            "Labels dtype: int64\n",
            "Preds dtype: int64\n"
          ]
        },
        {
          "output_type": "stream",
          "name": "stderr",
          "text": [
            "/usr/local/lib/python3.11/dist-packages/torch/nn/modules/module.py:1750: FutureWarning: `encoder_attention_mask` is deprecated and will be removed in version 4.55.0 for `BertSdpaSelfAttention.forward`.\n",
            "  return forward_call(*args, **kwargs)\n"
          ]
        },
        {
          "output_type": "stream",
          "name": "stdout",
          "text": [
            "Pred object: <transformers.trainer_utils.EvalPrediction object at 0x7a5988929250>\n",
            "Pred label_ids: [1 3 0 4 3 4 3 3 4 3 3 2 3 3 2 3 2 3 2 1 2 1 1 4 4 3 0 0 4 0 4 2 2 4 1 1 1\n",
            " 4 4 1 1 3 2 2 0 4 0 2 2 2 4 0 4 1 1 0 3 1 2 3 3 1 4 0 4 0 0 4 2 2 2 4 1 1\n",
            " 0 4 3 3 2 0 0 4 0 0 0 1 3 1 0 0 4 1 2 1 1 0 3 3 4 3 4 0 1 4 2 2 2 0 2 2 0\n",
            " 4 4 3 1 1 1 3 0 1 4 0 3 3 3 0 4 2 2 2 3 1 4 3 1 4 2 3 1 0 3 2 3 3 1 4 1 0\n",
            " 1 3 2 1 2 0 0 0 0 3 2 2 1 3 0 0 2 4 1 3 4 3 2 3 4 0 4 0 3 3 0 2 1 4 4 0 2\n",
            " 2 2 1 3 3 0 2 1 1 3 1 1 0 0 4 3 1 3 3 3 1 0 1 2 3 1 0 1 3 2 1 4 2 0 0 0 1\n",
            " 2 4 4 3 1 0 3 4 0 3 1 1 0 1 1 4 0 3 4 3 2 4 4 1 0 0 0 4 3 3 2 4 3 4 4 2 0\n",
            " 3 0 4 0 2 1 2 0 1 4 2 2 0 2 0 2 0 4 2 1 4 2 0 1 0 0 4 2 2 2 4 2 0 1 1 1 4\n",
            " 1 3 4 4 3 3 4 0 0 3 4 3 3 1 4 4 2 1 0 1 2 4 3 0 0 2 1 0 2 3 4 2 1 4 3 0 2\n",
            " 3 4 3 1 1 3 2 1 1 2 4 2 4 4 2 2 3 2 4 2]\n",
            "Labels unique values: [0 1 2 3 4]\n",
            "Preds unique values: [0 1 2 3 4]\n",
            "Labels dtype: int64\n",
            "Preds dtype: int64\n"
          ]
        },
        {
          "output_type": "stream",
          "name": "stderr",
          "text": [
            "/usr/local/lib/python3.11/dist-packages/torch/nn/modules/module.py:1750: FutureWarning: `encoder_attention_mask` is deprecated and will be removed in version 4.55.0 for `BertSdpaSelfAttention.forward`.\n",
            "  return forward_call(*args, **kwargs)\n"
          ]
        },
        {
          "output_type": "stream",
          "name": "stdout",
          "text": [
            "Pred object: <transformers.trainer_utils.EvalPrediction object at 0x7a59889357d0>\n",
            "Pred label_ids: [1 3 0 4 3 4 3 3 4 3 3 2 3 3 2 3 2 3 2 1 2 1 1 4 4 3 0 0 4 0 4 2 2 4 1 1 1\n",
            " 4 4 1 1 3 2 2 0 4 0 2 2 2 4 0 4 1 1 0 3 1 2 3 3 1 4 0 4 0 0 4 2 2 2 4 1 1\n",
            " 0 4 3 3 2 0 0 4 0 0 0 1 3 1 0 0 4 1 2 1 1 0 3 3 4 3 4 0 1 4 2 2 2 0 2 2 0\n",
            " 4 4 3 1 1 1 3 0 1 4 0 3 3 3 0 4 2 2 2 3 1 4 3 1 4 2 3 1 0 3 2 3 3 1 4 1 0\n",
            " 1 3 2 1 2 0 0 0 0 3 2 2 1 3 0 0 2 4 1 3 4 3 2 3 4 0 4 0 3 3 0 2 1 4 4 0 2\n",
            " 2 2 1 3 3 0 2 1 1 3 1 1 0 0 4 3 1 3 3 3 1 0 1 2 3 1 0 1 3 2 1 4 2 0 0 0 1\n",
            " 2 4 4 3 1 0 3 4 0 3 1 1 0 1 1 4 0 3 4 3 2 4 4 1 0 0 0 4 3 3 2 4 3 4 4 2 0\n",
            " 3 0 4 0 2 1 2 0 1 4 2 2 0 2 0 2 0 4 2 1 4 2 0 1 0 0 4 2 2 2 4 2 0 1 1 1 4\n",
            " 1 3 4 4 3 3 4 0 0 3 4 3 3 1 4 4 2 1 0 1 2 4 3 0 0 2 1 0 2 3 4 2 1 4 3 0 2\n",
            " 3 4 3 1 1 3 2 1 1 2 4 2 4 4 2 2 3 2 4 2]\n",
            "Labels unique values: [0 1 2 3 4]\n",
            "Preds unique values: [0 1 2 3 4]\n",
            "Labels dtype: int64\n",
            "Preds dtype: int64\n"
          ]
        },
        {
          "output_type": "stream",
          "name": "stderr",
          "text": [
            "/usr/local/lib/python3.11/dist-packages/torch/nn/modules/module.py:1750: FutureWarning: `encoder_attention_mask` is deprecated and will be removed in version 4.55.0 for `BertSdpaSelfAttention.forward`.\n",
            "  return forward_call(*args, **kwargs)\n"
          ]
        },
        {
          "output_type": "stream",
          "name": "stdout",
          "text": [
            "Pred object: <transformers.trainer_utils.EvalPrediction object at 0x7a59889a7790>\n",
            "Pred label_ids: [1 3 0 4 3 4 3 3 4 3 3 2 3 3 2 3 2 3 2 1 2 1 1 4 4 3 0 0 4 0 4 2 2 4 1 1 1\n",
            " 4 4 1 1 3 2 2 0 4 0 2 2 2 4 0 4 1 1 0 3 1 2 3 3 1 4 0 4 0 0 4 2 2 2 4 1 1\n",
            " 0 4 3 3 2 0 0 4 0 0 0 1 3 1 0 0 4 1 2 1 1 0 3 3 4 3 4 0 1 4 2 2 2 0 2 2 0\n",
            " 4 4 3 1 1 1 3 0 1 4 0 3 3 3 0 4 2 2 2 3 1 4 3 1 4 2 3 1 0 3 2 3 3 1 4 1 0\n",
            " 1 3 2 1 2 0 0 0 0 3 2 2 1 3 0 0 2 4 1 3 4 3 2 3 4 0 4 0 3 3 0 2 1 4 4 0 2\n",
            " 2 2 1 3 3 0 2 1 1 3 1 1 0 0 4 3 1 3 3 3 1 0 1 2 3 1 0 1 3 2 1 4 2 0 0 0 1\n",
            " 2 4 4 3 1 0 3 4 0 3 1 1 0 1 1 4 0 3 4 3 2 4 4 1 0 0 0 4 3 3 2 4 3 4 4 2 0\n",
            " 3 0 4 0 2 1 2 0 1 4 2 2 0 2 0 2 0 4 2 1 4 2 0 1 0 0 4 2 2 2 4 2 0 1 1 1 4\n",
            " 1 3 4 4 3 3 4 0 0 3 4 3 3 1 4 4 2 1 0 1 2 4 3 0 0 2 1 0 2 3 4 2 1 4 3 0 2\n",
            " 3 4 3 1 1 3 2 1 1 2 4 2 4 4 2 2 3 2 4 2]\n",
            "Labels unique values: [0 1 2 3 4]\n",
            "Preds unique values: [0 1 2 3 4]\n",
            "Labels dtype: int64\n",
            "Preds dtype: int64\n"
          ]
        },
        {
          "output_type": "stream",
          "name": "stderr",
          "text": [
            "/usr/local/lib/python3.11/dist-packages/torch/nn/modules/module.py:1750: FutureWarning: `encoder_attention_mask` is deprecated and will be removed in version 4.55.0 for `BertSdpaSelfAttention.forward`.\n",
            "  return forward_call(*args, **kwargs)\n"
          ]
        },
        {
          "output_type": "stream",
          "name": "stdout",
          "text": [
            "Pred object: <transformers.trainer_utils.EvalPrediction object at 0x7a5988802c10>\n",
            "Pred label_ids: [1 3 0 4 3 4 3 3 4 3 3 2 3 3 2 3 2 3 2 1 2 1 1 4 4 3 0 0 4 0 4 2 2 4 1 1 1\n",
            " 4 4 1 1 3 2 2 0 4 0 2 2 2 4 0 4 1 1 0 3 1 2 3 3 1 4 0 4 0 0 4 2 2 2 4 1 1\n",
            " 0 4 3 3 2 0 0 4 0 0 0 1 3 1 0 0 4 1 2 1 1 0 3 3 4 3 4 0 1 4 2 2 2 0 2 2 0\n",
            " 4 4 3 1 1 1 3 0 1 4 0 3 3 3 0 4 2 2 2 3 1 4 3 1 4 2 3 1 0 3 2 3 3 1 4 1 0\n",
            " 1 3 2 1 2 0 0 0 0 3 2 2 1 3 0 0 2 4 1 3 4 3 2 3 4 0 4 0 3 3 0 2 1 4 4 0 2\n",
            " 2 2 1 3 3 0 2 1 1 3 1 1 0 0 4 3 1 3 3 3 1 0 1 2 3 1 0 1 3 2 1 4 2 0 0 0 1\n",
            " 2 4 4 3 1 0 3 4 0 3 1 1 0 1 1 4 0 3 4 3 2 4 4 1 0 0 0 4 3 3 2 4 3 4 4 2 0\n",
            " 3 0 4 0 2 1 2 0 1 4 2 2 0 2 0 2 0 4 2 1 4 2 0 1 0 0 4 2 2 2 4 2 0 1 1 1 4\n",
            " 1 3 4 4 3 3 4 0 0 3 4 3 3 1 4 4 2 1 0 1 2 4 3 0 0 2 1 0 2 3 4 2 1 4 3 0 2\n",
            " 3 4 3 1 1 3 2 1 1 2 4 2 4 4 2 2 3 2 4 2]\n",
            "Labels unique values: [0 1 2 3 4]\n",
            "Preds unique values: [0 1 2 3 4]\n",
            "Labels dtype: int64\n",
            "Preds dtype: int64\n"
          ]
        },
        {
          "output_type": "execute_result",
          "data": {
            "text/plain": [
              "('banglabert-dialect-classifier2/tokenizer_config.json',\n",
              " 'banglabert-dialect-classifier2/special_tokens_map.json',\n",
              " 'banglabert-dialect-classifier2/vocab.txt',\n",
              " 'banglabert-dialect-classifier2/added_tokens.json',\n",
              " 'banglabert-dialect-classifier2/tokenizer.json')"
            ]
          },
          "metadata": {},
          "execution_count": 25
        }
      ]
    },
    {
      "cell_type": "code",
      "source": [
        "from sklearn.metrics import confusion_matrix, ConfusionMatrixDisplay\n",
        "import numpy as np # Import numpy\n",
        "\n",
        "y_true = trainer.eval_dataset[\"labels\"] # Changed from \"label_id\" to \"labels\"\n",
        "y_pred = np.argmax(trainer.predict(trainer.eval_dataset).predictions, axis=1)\n",
        "\n",
        "cm = confusion_matrix(y_true, y_pred)\n",
        "disp = ConfusionMatrixDisplay(confusion_matrix=cm, display_labels=label2id.keys())\n",
        "disp.plot(cmap=\"Blues\")"
      ],
      "metadata": {
        "colab": {
          "base_uri": "https://localhost:8080/",
          "height": 795
        },
        "id": "qZIlluXvR0Yh",
        "outputId": "c3223f02-0bb3-444c-9502-f69b0e0a3d83"
      },
      "execution_count": 26,
      "outputs": [
        {
          "output_type": "stream",
          "name": "stderr",
          "text": [
            "/usr/local/lib/python3.11/dist-packages/torch/nn/modules/module.py:1750: FutureWarning: `encoder_attention_mask` is deprecated and will be removed in version 4.55.0 for `BertSdpaSelfAttention.forward`.\n",
            "  return forward_call(*args, **kwargs)\n"
          ]
        },
        {
          "output_type": "display_data",
          "data": {
            "text/plain": [
              "<IPython.core.display.HTML object>"
            ],
            "text/html": []
          },
          "metadata": {}
        },
        {
          "output_type": "stream",
          "name": "stdout",
          "text": [
            "Pred object: <transformers.trainer_utils.EvalPrediction object at 0x7a59889d3790>\n",
            "Pred label_ids: [1 3 0 4 3 4 3 3 4 3 3 2 3 3 2 3 2 3 2 1 2 1 1 4 4 3 0 0 4 0 4 2 2 4 1 1 1\n",
            " 4 4 1 1 3 2 2 0 4 0 2 2 2 4 0 4 1 1 0 3 1 2 3 3 1 4 0 4 0 0 4 2 2 2 4 1 1\n",
            " 0 4 3 3 2 0 0 4 0 0 0 1 3 1 0 0 4 1 2 1 1 0 3 3 4 3 4 0 1 4 2 2 2 0 2 2 0\n",
            " 4 4 3 1 1 1 3 0 1 4 0 3 3 3 0 4 2 2 2 3 1 4 3 1 4 2 3 1 0 3 2 3 3 1 4 1 0\n",
            " 1 3 2 1 2 0 0 0 0 3 2 2 1 3 0 0 2 4 1 3 4 3 2 3 4 0 4 0 3 3 0 2 1 4 4 0 2\n",
            " 2 2 1 3 3 0 2 1 1 3 1 1 0 0 4 3 1 3 3 3 1 0 1 2 3 1 0 1 3 2 1 4 2 0 0 0 1\n",
            " 2 4 4 3 1 0 3 4 0 3 1 1 0 1 1 4 0 3 4 3 2 4 4 1 0 0 0 4 3 3 2 4 3 4 4 2 0\n",
            " 3 0 4 0 2 1 2 0 1 4 2 2 0 2 0 2 0 4 2 1 4 2 0 1 0 0 4 2 2 2 4 2 0 1 1 1 4\n",
            " 1 3 4 4 3 3 4 0 0 3 4 3 3 1 4 4 2 1 0 1 2 4 3 0 0 2 1 0 2 3 4 2 1 4 3 0 2\n",
            " 3 4 3 1 1 3 2 1 1 2 4 2 4 4 2 2 3 2 4 2]\n",
            "Labels unique values: [0 1 2 3 4]\n",
            "Preds unique values: [0 1 2 3 4]\n",
            "Labels dtype: int64\n",
            "Preds dtype: int64\n"
          ]
        },
        {
          "output_type": "execute_result",
          "data": {
            "text/plain": [
              "<sklearn.metrics._plot.confusion_matrix.ConfusionMatrixDisplay at 0x7a599d7f4090>"
            ]
          },
          "metadata": {},
          "execution_count": 26
        },
        {
          "output_type": "display_data",
          "data": {
            "text/plain": [
              "<Figure size 640x480 with 2 Axes>"
            ],
            "image/png": "[encoded data removed]"
          },
          "metadata": {}
        }
      ]
    },
    {
      "cell_type": "code",
      "source": [
        "from sklearn.metrics import classification_report\n",
        "import seaborn as sns\n",
        "import matplotlib.pyplot as plt\n",
        "\n",
        "report = classification_report(y_true, y_pred, target_names=label2id.keys(), output_dict=True)\n",
        "df_report = pd.DataFrame(report).transpose()\n",
        "\n",
        "sns.barplot(x=df_report.index[:-3], y=df_report[\"f1-score\"][:-3])\n",
        "plt.title(\"F1-Score per Dialect Class\")\n",
        "plt.ylabel(\"F1-Score\")\n",
        "plt.xticks(rotation=45)\n",
        "plt.tight_layout()\n",
        "plt.show()\n"
      ],
      "metadata": {
        "colab": {
          "base_uri": "https://localhost:8080/",
          "height": 487
        },
        "id": "Oz2KY0RFfUF5",
        "outputId": "ea7bd358-cf55-4891-80b7-d12421358012"
      },
      "execution_count": 27,
      "outputs": [
        {
          "output_type": "display_data",
          "data": {
            "text/plain": [
              "<Figure size 640x480 with 1 Axes>"
            ],
            "image/png": "[encoded data removed]"
          },
          "metadata": {}
        }
      ]
    },
    {
      "cell_type": "code",
      "source": [
        "import pandas as pd\n",
        "import matplotlib.pyplot as plt\n",
        "\n",
        "logs = trainer.state.log_history\n",
        "df_logs = pd.DataFrame(logs)\n",
        "\n",
        "train_loss = df_logs[df_logs[\"loss\"].notnull()][[\"step\", \"loss\"]]\n",
        "eval_loss = df_logs[df_logs[\"eval_loss\"].notnull()][[\"step\", \"eval_loss\"]]\n",
        "\n",
        "plt.plot(train_loss[\"step\"], train_loss[\"loss\"], label=\"Train Loss\")\n",
        "plt.plot(eval_loss[\"step\"], eval_loss[\"eval_loss\"], label=\"Eval Loss\")\n",
        "plt.xlabel(\"Training Step\")\n",
        "plt.ylabel(\"Loss\")\n",
        "plt.title(\"Training vs Evaluation Loss\")\n",
        "plt.legend()\n",
        "plt.grid(True)\n",
        "plt.tight_layout()\n",
        "plt.show()\n"
      ],
      "metadata": {
        "colab": {
          "base_uri": "https://localhost:8080/",
          "height": 487
        },
        "id": "8KuaIrXMfbUR",
        "outputId": "55c59dfc-beb6-4a6b-de43-b03156e2e099"
      },
      "execution_count": 28,
      "outputs": [
        {
          "output_type": "display_data",
          "data": {
            "text/plain": [
              "<Figure size 640x480 with 1 Axes>"
            ],
            "image/png": "[encoded data removed]"
          },
          "metadata": {}
        }
      ]
    },
    {
      "cell_type": "code",
      "source": [],
      "metadata": {
        "id": "uARooFgtfek0"
      },
      "execution_count": null,
      "outputs": []
    }
  ]
}